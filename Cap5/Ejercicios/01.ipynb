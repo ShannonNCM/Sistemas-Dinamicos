{
 "metadata": {
  "language_info": {
   "codemirror_mode": {
    "name": "ipython",
    "version": 3
   },
   "file_extension": ".py",
   "mimetype": "text/x-python",
   "name": "python",
   "nbconvert_exporter": "python",
   "pygments_lexer": "ipython3",
   "version": "3.7.5-final"
  },
  "orig_nbformat": 2,
  "kernelspec": {
   "name": "python_defaultSpec_1597796432151",
   "display_name": "Python 3"
  }
 },
 "nbformat": 4,
 "nbformat_minor": 2,
 "cells": [
  {
   "cell_type": "code",
   "execution_count": 1,
   "metadata": {},
   "outputs": [],
   "source": [
    "from sympy import *\n",
    "from sympy.abc import x,y,t"
   ]
  },
  {
   "cell_type": "code",
   "execution_count": 2,
   "metadata": {
    "tags": []
   },
   "outputs": [
    {
     "output_type": "stream",
     "name": "stdout",
     "text": "[(0.0, 0.0), (-1.53288775564018 - 0.315824114645461*I, -0.689017322998188 + 1.40525615863856*I), (-1.53288775564018 + 0.315824114645461*I, -0.689017322998188 - 1.40525615863856*I), (1.53288775564018 - 0.315824114645461*I, 0.689017322998188 + 1.40525615863856*I), (1.53288775564018 + 0.315824114645461*I, 0.689017322998188 - 1.40525615863856*I)]\n⎡     2    2                       ⎤\n⎢- 3⋅x  - y  + 0.5    -2⋅x⋅y + 1   ⎥\n⎢                                  ⎥\n⎢                      2      2    ⎥\n⎣   -2⋅x⋅y - 1      - x  - 3⋅y  + 1⎦\n"
    }
   ],
   "source": [
    "#puntos criticos\n",
    "P=y+x*(1/2-x**2-y**2)\n",
    "Q=-x+y*(1-x**2-y**2)\n",
    "#establecer P(x,y)=0 y Q(x,y)=0\n",
    "Peqn=Eq(P,0)\n",
    "Qeqn=Eq(Q,0)\n",
    "print(solve((Peqn,Qeqn),x,y))\n",
    "#matriz Jacobiana\n",
    "J11=diff(P,x)\n",
    "J12=diff(P,y)\n",
    "J21=diff(Q,x)\n",
    "J22=diff(Q,y)\n",
    "J=Matrix([[J11,J12],[J21,J22]])\n",
    "pprint(J)"
   ]
  },
  {
   "cell_type": "code",
   "execution_count": 4,
   "metadata": {
    "tags": []
   },
   "outputs": [
    {
     "output_type": "stream",
     "name": "stdout",
     "text": "{0.75 - 0.968245836551854*I: 1, 0.75 + 0.968245836551854*I: 1}\n"
    }
   ],
   "source": [
    "#J en el punto critico\n",
    "Jc1=J.subs([(x,0),(y,0)])\n",
    "print(Jc1.eigenvals())\n",
    "#pprint(Jc1.eigenvects())"
   ]
  },
  {
   "cell_type": "code",
   "execution_count": null,
   "metadata": {},
   "outputs": [],
   "source": []
  },
  {
   "cell_type": "code",
   "execution_count": 5,
   "metadata": {},
   "outputs": [],
   "source": [
    "import matplotlib.pyplot as plt\n",
    "import numpy as np\n",
    "from scipy.integrate import odeint\n",
    "import pylab as pl"
   ]
  },
  {
   "cell_type": "code",
   "execution_count": null,
   "metadata": {},
   "outputs": [],
   "source": []
  }
 ]
}