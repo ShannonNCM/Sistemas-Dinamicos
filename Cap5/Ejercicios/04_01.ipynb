{
 "metadata": {
  "language_info": {
   "codemirror_mode": {
    "name": "ipython",
    "version": 3
   },
   "file_extension": ".py",
   "mimetype": "text/x-python",
   "name": "python",
   "nbconvert_exporter": "python",
   "pygments_lexer": "ipython3",
   "version": "3.7.5-final"
  },
  "orig_nbformat": 2,
  "kernelspec": {
   "name": "python_defaultSpec_1598420113142",
   "display_name": "Python 3.7.5 64-bit"
  }
 },
 "nbformat": 4,
 "nbformat_minor": 2,
 "cells": [
  {
   "cell_type": "markdown",
   "metadata": {},
   "source": [
    "Probar que el sistema dx/dt=y+x(a-x^2-y^2), dy/dt=-x+y(1-x^2-y^2) con 0<a<1 tiene un ciclo limite y determinar su estabilidad."
   ]
  },
  {
   "cell_type": "code",
   "execution_count": 3,
   "metadata": {},
   "outputs": [],
   "source": [
    "from sympy import *\n",
    "from sympy.abc import x,y,t,a"
   ]
  },
  {
   "cell_type": "code",
   "execution_count": 8,
   "metadata": {
    "tags": []
   },
   "outputs": [
    {
     "output_type": "stream",
     "name": "stdout",
     "text": "[(0, 0), (sqrt(2)*sqrt((a - sqrt(a**2 - 2*a - 3) + 1)/(a - 1))*(-a - sqrt(a**2 - 2*a - 3) + 1)/4, sqrt(a/(2*a - 2) - sqrt(a**2 - 2*a - 3)/(2*a - 2) + 1/(2*a - 2))), (sqrt(2)*sqrt((a - sqrt(a**2 - 2*a - 3) + 1)/(a - 1))*(a + sqrt(a**2 - 2*a - 3) - 1)/4, -sqrt(a/(2*a - 2) - sqrt(a**2 - 2*a - 3)/(2*a - 2) + 1/(2*a - 2))), (sqrt(2)*sqrt((a + sqrt(a**2 - 2*a - 3) + 1)/(a - 1))*(-a + sqrt(a**2 - 2*a - 3) + 1)/4, sqrt(a/(2*a - 2) + sqrt(a**2 - 2*a - 3)/(2*a - 2) + 1/(2*a - 2))), (sqrt(2)*sqrt((a + sqrt(a**2 - 2*a - 3) + 1)/(a - 1))*(a - sqrt(a**2 - 2*a - 3) - 1)/4, -sqrt(a/(2*a - 2) + sqrt(a**2 - 2*a - 3)/(2*a - 2) + 1/(2*a - 2)))]\n\n⎡       2    2                 ⎤\n⎢a - 3⋅x  - y     -2⋅x⋅y + 1   ⎥\n⎢                              ⎥\n⎢                  2      2    ⎥\n⎣ -2⋅x⋅y - 1    - x  - 3⋅y  + 1⎦\n"
    }
   ],
   "source": [
    "#puntos criticos\n",
    "P=y+x*(a-x**2-y**2)\n",
    "Q=-x+y*(1-x**2-y**2)\n",
    "#establecer P(x,y)=0 y Q(x,y)=0\n",
    "Peqn=Eq(P,0)\n",
    "Qeqn=Eq(Q,0)\n",
    "print(solve((Peqn,Qeqn),x,y))\n",
    "print()\n",
    "#matriz Jacobiana\n",
    "J11=diff(P,x)\n",
    "J12=diff(P,y)\n",
    "J21=diff(Q,x)\n",
    "J22=diff(Q,y)\n",
    "J=Matrix([[J11,J12],[J21,J22]])\n",
    "pprint(J)"
   ]
  },
  {
   "cell_type": "code",
   "execution_count": null,
   "metadata": {},
   "outputs": [],
   "source": []
  }
 ]
}