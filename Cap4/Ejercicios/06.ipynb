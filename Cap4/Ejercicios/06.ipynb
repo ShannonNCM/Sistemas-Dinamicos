{
 "metadata": {
  "language_info": {
   "codemirror_mode": {
    "name": "ipython",
    "version": 3
   },
   "file_extension": ".py",
   "mimetype": "text/x-python",
   "name": "python",
   "nbconvert_exporter": "python",
   "pygments_lexer": "ipython3",
   "version": 3
  },
  "orig_nbformat": 2,
  "kernelspec": {
   "name": "python_defaultSpec_1597248469063",
   "display_name": "Python 3.7.5 64-bit"
  }
 },
 "nbformat": 4,
 "nbformat_minor": 2,
 "cells": [
  {
   "cell_type": "markdown",
   "metadata": {},
   "source": [
    "Modelo depredador-presa dx/dt=x(1-y-ex), dy/dt=y(-1+x-ey) conde x(t) es la poblacion presa y y(t) es la problacion depredador en un tiempo t. Clasificar los punto criticos para e>=0 y graficar el retrato de fase."
   ]
  },
  {
   "cell_type": "code",
   "execution_count": 1,
   "metadata": {},
   "outputs": [],
   "source": [
    "from sympy import *\n",
    "from sympy.abc import x,y,t"
   ]
  },
  {
   "cell_type": "code",
   "execution_count": 3,
   "metadata": {
    "tags": []
   },
   "outputs": [
    {
     "output_type": "stream",
     "name": "stdout",
     "text": "[(0, 0), (0, -1/e), (1/e, 0), ((e + 1)/(e**2 + 1), -(e - 1)/(e**2 + 1))]\n⎡-2⋅e⋅x - y + 1        -x      ⎤\n⎢                              ⎥\n⎣      y         -2⋅e⋅y + x - 1⎦\n"
    }
   ],
   "source": [
    "#puntos criticos\n",
    "e=symbols('e')\n",
    "P=x*(1-y-e*x)\n",
    "Q=y*(-1+x-e*y)\n",
    "#establecer P(x,y)=0 y Q(x,y)=0\n",
    "Peqn=Eq(P,0)\n",
    "Qeqn=Eq(Q,0)\n",
    "print(solve((Peqn,Qeqn),x,y))\n",
    "#matriz Jacobiana\n",
    "J11=diff(P,x)\n",
    "J12=diff(P,y)\n",
    "J21=diff(Q,x)\n",
    "J22=diff(Q,y)\n",
    "J=Matrix([[J11,J12],[J21,J22]])\n",
    "pprint(J)"
   ]
  },
  {
   "cell_type": "code",
   "execution_count": 4,
   "metadata": {
    "tags": []
   },
   "outputs": [
    {
     "output_type": "stream",
     "name": "stdout",
     "text": "{1: 1, -1: 1}\n⎡⎛       ⎡⎡0⎤⎤⎞  ⎛      ⎡⎡1⎤⎤⎞⎤\n⎢⎜-1, 1, ⎢⎢ ⎥⎥⎟, ⎜1, 1, ⎢⎢ ⎥⎥⎟⎥\n⎣⎝       ⎣⎣1⎦⎦⎠  ⎝      ⎣⎣0⎦⎦⎠⎦\n\n{-1: 1, -1 + 1/e: 1}\n⎡⎛       ⎡⎡1⎤⎤⎞  ⎛     1     ⎡⎡-1⎤⎤⎞⎤\n⎢⎜-1, 1, ⎢⎢ ⎥⎥⎟, ⎜-1 + ─, 1, ⎢⎢  ⎥⎥⎟⎥\n⎣⎝       ⎣⎣0⎦⎦⎠  ⎝     e     ⎣⎣1 ⎦⎦⎠⎦\n\n{-e/(e**2 + 1) - sqrt(e**4 + e**2 - 1)/(e**2 + 1): 1, -e/(e**2 + 1) + sqrt(e**4 + e**2 - 1)/(e**2 + 1): 1}\n⎡⎛              _____________     ⎡⎡      -(e + 1)       ⎤⎤⎞  ⎛              _\n⎢⎜             ╱  4    2          ⎢⎢─────────────────────⎥⎥⎟  ⎜             ╱ \n⎢⎜    e      ╲╱  e  + e  - 1      ⎢⎢        _____________⎥⎥⎟  ⎜    e      ╲╱  \n⎢⎜- ────── - ────────────────, 1, ⎢⎢ 2     ╱  4    2     ⎥⎥⎟, ⎜- ────── + ────\n⎢⎜   2             2              ⎢⎢e  - ╲╱  e  + e  - 1 ⎥⎥⎟  ⎜   2           \n⎢⎜  e  + 1        e  + 1          ⎢⎢                     ⎥⎥⎟  ⎜  e  + 1       \n⎣⎝                                ⎣⎣          1          ⎦⎦⎠  ⎝               \n\n____________     ⎡⎡      -(e + 1)       ⎤⎤⎞⎤\n 4    2          ⎢⎢─────────────────────⎥⎥⎟⎥\ne  + e  - 1      ⎢⎢        _____________⎥⎥⎟⎥\n────────────, 1, ⎢⎢ 2     ╱  4    2     ⎥⎥⎟⎥\n  2              ⎢⎢e  + ╲╱  e  + e  - 1 ⎥⎥⎟⎥\n e  + 1          ⎢⎢                     ⎥⎥⎟⎥\n                 ⎣⎣          1          ⎦⎦⎠⎦\n"
    }
   ],
   "source": [
    "#J en el punto critico\n",
    "Jc1=J.subs([(x,0),(y,0)])\n",
    "print(Jc1.eigenvals())\n",
    "pprint(Jc1.eigenvects())\n",
    "print()\n",
    "Jc2=J.subs([(x,1/e),(y,0)])\n",
    "print(Jc2.eigenvals())\n",
    "pprint(Jc2.eigenvects())\n",
    "print()\n",
    "Jc3=J.subs([(x,(e + 1)/(e**2 + 1)),(y,-(e - 1)/(e**2 + 1))])\n",
    "print(Jc3.eigenvals())\n",
    "pprint(Jc3.eigenvects())"
   ]
  },
  {
   "cell_type": "markdown",
   "metadata": {},
   "source": [
    "El origen es un punto critico, con eigenvalores reales uno positivo y el otro negativo por lo que es un punto silla. \n",
    "\n",
    "El punto (1/e, 0) tiene eigenvalores reales distintos negativos por lo que es un nodo estable. \n",
    "\n",
    "El punto ((e + 1)/(e**2 + 1), -(e - 1)/(e**2 + 1)) con eigenvalores "
   ]
  }
 ]
}