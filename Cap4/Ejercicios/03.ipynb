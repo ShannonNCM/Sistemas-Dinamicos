{
 "metadata": {
  "language_info": {
   "codemirror_mode": {
    "name": "ipython",
    "version": 3
   },
   "file_extension": ".py",
   "mimetype": "text/x-python",
   "name": "python",
   "nbconvert_exporter": "python",
   "pygments_lexer": "ipython3",
   "version": 3
  },
  "orig_nbformat": 2,
  "kernelspec": {
   "name": "python_defaultSpec_1596947625901",
   "display_name": "Python 3.7.5 64-bit"
  }
 },
 "nbformat": 4,
 "nbformat_minor": 2,
 "cells": [
  {
   "cell_type": "markdown",
   "metadata": {},
   "source": [
    "Hacer retrato de fase del sistema dx/dt=2x-x^2-xy, dy/dt=-y-y^2+xy y describir lo que sucede con la poblacion para distintas condiciones iniciales. "
   ]
  },
  {
   "cell_type": "code",
   "execution_count": 16,
   "metadata": {},
   "outputs": [],
   "source": [
    "from sympy import *\n",
    "from sympy.abc import x,y,t"
   ]
  },
  {
   "cell_type": "code",
   "execution_count": 28,
   "metadata": {
    "tags": []
   },
   "outputs": [
    {
     "output_type": "stream",
     "name": "stdout",
     "text": "[(0, -1), (0, 0), (3/2, 1/2), (2, 0)]\n\n⎡-2⋅x - y + 2      -x     ⎤\n⎢                         ⎥\n⎣     y        x - 2⋅y - 1⎦\n\n"
    }
   ],
   "source": [
    "#puntos criticos\n",
    "P=2*x-x**2-x*y\n",
    "Q=-y-y**2+x*y\n",
    "#establecer P(x,y)=0 y Q(x,y)=0\n",
    "Peqn=Eq(P,0)\n",
    "Qeqn=Eq(Q,0)\n",
    "print(solve((Peqn,Qeqn),x,y))\n",
    "print()\n",
    "#matriz Jacobiana\n",
    "J11=diff(P,x)\n",
    "J12=diff(P,y)\n",
    "J21=diff(Q,x)\n",
    "J22=diff(Q,y)\n",
    "J=Matrix([[J11,J12],[J21,J22]])\n",
    "pprint(J)\n",
    "print()"
   ]
  },
  {
   "cell_type": "code",
   "execution_count": 30,
   "metadata": {
    "tags": []
   },
   "outputs": [
    {
     "output_type": "stream",
     "name": "stdout",
     "text": "{3: 1, 1: 1}\n⎡⎛      ⎡⎡0⎤⎤⎞  ⎛      ⎡⎡-2⎤⎤⎞⎤\n⎢⎜1, 1, ⎢⎢ ⎥⎥⎟, ⎜3, 1, ⎢⎢  ⎥⎥⎟⎥\n⎣⎝      ⎣⎣1⎦⎦⎠  ⎝      ⎣⎣1 ⎦⎦⎠⎦\n\n{2: 1, -1: 1}\n⎡⎛       ⎡⎡0⎤⎤⎞  ⎛      ⎡⎡1⎤⎤⎞⎤\n⎢⎜-1, 1, ⎢⎢ ⎥⎥⎟, ⎜2, 1, ⎢⎢ ⎥⎥⎟⎥\n⎣⎝       ⎣⎣1⎦⎦⎠  ⎝      ⎣⎣0⎦⎦⎠⎦\n\n{-1.0 - 0.707106781186548*I: 1, -1.0 + 0.707106781186548*I: 1}\n⎡⎛                               ⎡⎡-0.5 - 0.707106781186548⋅ⅈ⎤⎤⎞  ⎛           \n⎢⎜-1.0 - 0.707106781186548⋅ⅈ, 1, ⎢⎢                          ⎥⎥⎟, ⎜-1.0 + 0.70\n⎣⎝                               ⎣⎣           0.5            ⎦⎦⎠  ⎝           \n\n                    ⎡⎡-1.0 - 0.707106781186548⋅ⅈ⎤⎤⎞⎤\n7106781186548⋅ⅈ, 1, ⎢⎢                          ⎥⎥⎟⎥\n                    ⎣⎣   0.707106781186548⋅ⅈ    ⎦⎦⎠⎦\n\n{-2: 1, 1: 1}\n⎡⎛       ⎡⎡1⎤⎤⎞  ⎛      ⎡⎡-2/3⎤⎤⎞⎤\n⎢⎜-2, 1, ⎢⎢ ⎥⎥⎟, ⎜1, 1, ⎢⎢    ⎥⎥⎟⎥\n⎣⎝       ⎣⎣0⎦⎦⎠  ⎝      ⎣⎣ 1  ⎦⎦⎠⎦\n"
    }
   ],
   "source": [
    "#J en el punto critico\n",
    "Jc1=J.subs([(x,0),(y,-1)])\n",
    "print(Jc1.eigenvals())\n",
    "pprint(Jc1.eigenvects())\n",
    "print()\n",
    "Jc2=J.subs([(x,0),(y,0)])\n",
    "print(Jc2.eigenvals())\n",
    "pprint(Jc2.eigenvects())\n",
    "print()\n",
    "Jc3=J.subs([(x,3/2),(y,1/2)])\n",
    "print(Jc3.eigenvals())\n",
    "pprint(Jc3.eigenvects())\n",
    "print()\n",
    "Jc4=J.subs([(x,2),(y,0)])\n",
    "print(Jc4.eigenvals())\n",
    "pprint(Jc4.eigenvects())"
   ]
  },
  {
   "cell_type": "markdown",
   "metadata": {},
   "source": [
    "El punto (0, -1) tiene eigenvalores reales positivos distintos, es un nodo inestable. El punto (0, 0) tiene eigenvalores reales uno positivo y otro negativo, es un punto silla. El punto (3/2, 1/2) tiene eigenvalores complejos con alfa<0, es un foco estable. El punto (2, 0) tiene eigenvalores reales uno negativo y otro positivo, es un punto silla."
   ]
  },
  {
   "cell_type": "code",
   "execution_count": null,
   "metadata": {},
   "outputs": [],
   "source": []
  }
 ]
}