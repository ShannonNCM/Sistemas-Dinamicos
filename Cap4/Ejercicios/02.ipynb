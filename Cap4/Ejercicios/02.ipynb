{
 "metadata": {
  "language_info": {
   "codemirror_mode": {
    "name": "ipython",
    "version": 3
   },
   "file_extension": ".py",
   "mimetype": "text/x-python",
   "name": "python",
   "nbconvert_exporter": "python",
   "pygments_lexer": "ipython3",
   "version": 3
  },
  "orig_nbformat": 2,
  "kernelspec": {
   "name": "python_defaultSpec_1596862257063",
   "display_name": "Python 3.7.5 64-bit"
  }
 },
 "nbformat": 4,
 "nbformat_minor": 2,
 "cells": [
  {
   "cell_type": "markdown",
   "metadata": {},
   "source": [
    "Hacer el diagrama del plano de fase para el sistema depredador-presa e interpretar solucion en terminos del comportamiento de especies\n",
    "dx/dt=2x-xy dy/dt=-3y+xy"
   ]
  },
  {
   "cell_type": "code",
   "execution_count": 2,
   "metadata": {},
   "outputs": [],
   "source": [
    "from sympy import *\n",
    "from sympy.abc import x,y,t"
   ]
  },
  {
   "cell_type": "code",
   "execution_count": 4,
   "metadata": {
    "tags": []
   },
   "outputs": [
    {
     "output_type": "stream",
     "name": "stdout",
     "text": "[(0, 0), (3, 2)]\n⎡2 - y   -x  ⎤\n⎢            ⎥\n⎣  y    x - 3⎦\n"
    }
   ],
   "source": [
    "#puntos criticos\n",
    "P=2*x-x*y\n",
    "Q=-3*y+x*y\n",
    "#establecer P(x,y)=0 y Q(x,y)=0\n",
    "Peqn=Eq(P,0)\n",
    "Qeqn=Eq(Q,0)\n",
    "print(solve((Peqn,Qeqn),x,y))\n",
    "#matriz Jacobiana\n",
    "J11=diff(P,x)\n",
    "J12=diff(P,y)\n",
    "J21=diff(Q,x)\n",
    "J22=diff(Q,y)\n",
    "J=Matrix([[J11,J12],[J21,J22]])\n",
    "pprint(J)"
   ]
  },
  {
   "cell_type": "code",
   "execution_count": 5,
   "metadata": {
    "tags": []
   },
   "outputs": [
    {
     "output_type": "stream",
     "name": "stdout",
     "text": "{2: 1, -3: 1}\n⎡⎛       ⎡⎡0⎤⎤⎞  ⎛      ⎡⎡1⎤⎤⎞⎤\n⎢⎜-3, 1, ⎢⎢ ⎥⎥⎟, ⎜2, 1, ⎢⎢ ⎥⎥⎟⎥\n⎣⎝       ⎣⎣1⎦⎦⎠  ⎝      ⎣⎣0⎦⎦⎠⎦\n{-sqrt(6)*I: 1, sqrt(6)*I: 1}\n⎡⎛          ⎡⎡-√6⋅ⅈ ⎤⎤⎞  ⎛         ⎡⎡√6⋅ⅈ⎤⎤⎞⎤\n⎢⎜          ⎢⎢──────⎥⎥⎟  ⎜         ⎢⎢────⎥⎥⎟⎥\n⎢⎜-√6⋅ⅈ, 1, ⎢⎢  2   ⎥⎥⎟, ⎜√6⋅ⅈ, 1, ⎢⎢ 2  ⎥⎥⎟⎥\n⎢⎜          ⎢⎢      ⎥⎥⎟  ⎜         ⎢⎢    ⎥⎥⎟⎥\n⎣⎝          ⎣⎣  1   ⎦⎦⎠  ⎝         ⎣⎣ 1  ⎦⎦⎠⎦\n"
    }
   ],
   "source": [
    "#J en el punto critico\n",
    "Jc1=Matrix([[2-0,-0],[0,0-3]])\n",
    "print(Jc1.eigenvals())\n",
    "pprint(Jc1.eigenvects())\n",
    "Jc2=Matrix([[2-2,-3],[2,3-3]])\n",
    "print(Jc2.eigenvals())\n",
    "pprint(Jc2.eigenvects())"
   ]
  },
  {
   "cell_type": "code",
   "execution_count": null,
   "metadata": {},
   "outputs": [],
   "source": [
    "El punto (0, 0) tiene eigenvalores reales uno positivo y otro negativo por lo que es un punto silla. El punto (3, 2) tiene eigenvalores complejos con alfa=0 por lo que es un centro."
   ]
  }
 ]
}