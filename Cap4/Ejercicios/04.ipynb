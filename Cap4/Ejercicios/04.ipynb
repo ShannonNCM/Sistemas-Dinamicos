{
 "metadata": {
  "language_info": {
   "codemirror_mode": {
    "name": "ipython",
    "version": 3
   },
   "file_extension": ".py",
   "mimetype": "text/x-python",
   "name": "python",
   "nbconvert_exporter": "python",
   "pygments_lexer": "ipython3",
   "version": 3
  },
  "orig_nbformat": 2,
  "kernelspec": {
   "name": "python_defaultSpec_1597202980419",
   "display_name": "Python 3.7.5 64-bit"
  }
 },
 "nbformat": 4,
 "nbformat_minor": 2,
 "cells": [
  {
   "cell_type": "markdown",
   "metadata": {},
   "source": [
    "Modelo de especies que compiten dado por dx/dt=x(2-x-y) dy/dt=y(mu=y=mu^2x) con mu constante. Describir el comportamiento cualitativo del sistema conforme mu varia."
   ]
  },
  {
   "cell_type": "code",
   "execution_count": 6,
   "metadata": {},
   "outputs": [],
   "source": [
    "from sympy import *\n",
    "from sympy.abc import x,y,t"
   ]
  },
  {
   "cell_type": "code",
   "execution_count": 7,
   "metadata": {
    "tags": []
   },
   "outputs": [
    {
     "output_type": "stream",
     "name": "stdout",
     "text": "[(0, 0), (0, mu), (2, 0), ((mu - 2)/((mu - 1)*(mu + 1)), (2*mu**2 - mu)/(mu**2 - 1))]\n\n⎡-2⋅x - y + 2         -x       ⎤\n⎢                              ⎥\n⎢     2           2            ⎥\n⎣   -μ ⋅y      - μ ⋅x + μ - 2⋅y⎦\n\n"
    }
   ],
   "source": [
    "mu=symbols('mu')\n",
    "#puntos criticos\n",
    "P=x*(2-x-y)\n",
    "Q=y*(mu-y-mu**2*x)\n",
    "#establecer P(x,y)=0 y Q(x,y)=0\n",
    "Peqn=Eq(P,0)\n",
    "Qeqn=Eq(Q,0)\n",
    "print(solve((Peqn,Qeqn),x,y))\n",
    "print()\n",
    "#matriz Jacobiana\n",
    "J11=diff(P,x)\n",
    "J12=diff(P,y)\n",
    "J21=diff(Q,x)\n",
    "J22=diff(Q,y)\n",
    "J=Matrix([[J11,J12],[J21,J22]])\n",
    "pprint(J)\n",
    "print()"
   ]
  },
  {
   "cell_type": "code",
   "execution_count": 9,
   "metadata": {},
   "outputs": [
    {
     "output_type": "error",
     "ename": "SyntaxError",
     "evalue": "unexpected EOF while parsing (<ipython-input-9-0e21b788bd4b>, line 1)",
     "traceback": [
      "\u001b[0;36m  File \u001b[0;32m\"<ipython-input-9-0e21b788bd4b>\"\u001b[0;36m, line \u001b[0;32m1\u001b[0m\n\u001b[0;31m    print(solve((mu - 2)/((mu - 1)*(mu + 1),0,mu))\u001b[0m\n\u001b[0m                                                  ^\u001b[0m\n\u001b[0;31mSyntaxError\u001b[0m\u001b[0;31m:\u001b[0m unexpected EOF while parsing\n"
     ]
    }
   ],
   "source": []
  },
  {
   "cell_type": "code",
   "execution_count": null,
   "metadata": {},
   "outputs": [],
   "source": []
  }
 ]
}