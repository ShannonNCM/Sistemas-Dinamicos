{
 "metadata": {
  "language_info": {
   "codemirror_mode": {
    "name": "ipython",
    "version": 3
   },
   "file_extension": ".py",
   "mimetype": "text/x-python",
   "name": "python",
   "nbconvert_exporter": "python",
   "pygments_lexer": "ipython3",
   "version": 3
  },
  "orig_nbformat": 2,
  "kernelspec": {
   "name": "python_defaultSpec_1596856023972",
   "display_name": "Python 3.7.5 64-bit"
  }
 },
 "nbformat": 4,
 "nbformat_minor": 2,
 "cells": [
  {
   "cell_type": "markdown",
   "metadata": {},
   "source": [
    "Hacer el retrato de fase del sistema dx/dt=2x-x^2-xy, dy/dt=3y-y^2-2xy y describir que pasa in terminos del comportamiento de las especies."
   ]
  },
  {
   "cell_type": "code",
   "execution_count": 1,
   "metadata": {},
   "outputs": [],
   "source": [
    "from sympy import *\n",
    "from sympy.abc import x,y,t"
   ]
  },
  {
   "cell_type": "code",
   "execution_count": 3,
   "metadata": {
    "tags": []
   },
   "outputs": [
    {
     "output_type": "stream",
     "name": "stdout",
     "text": "[(0, 0), (0, 3), (1, 1), (2, 0)]\n⎡-2⋅x - y + 2        -x      ⎤\n⎢                            ⎥\n⎣    -2⋅y      -2⋅x - 2⋅y + 3⎦\n"
    }
   ],
   "source": [
    "#puntos criticos\n",
    "P=2*x-x**2-x*y\n",
    "Q=3*y-y**2-2*x*y\n",
    "#establecer P(x,y)=0 y Q(x,y)=0\n",
    "Peqn=Eq(P,0)\n",
    "Qeqn=Eq(Q,0)\n",
    "print(solve((Peqn,Qeqn),x,y))\n",
    "#matriz Jacobiana\n",
    "J11=diff(P,x)\n",
    "J12=diff(P,y)\n",
    "J21=diff(Q,x)\n",
    "J22=diff(Q,y)\n",
    "J=Matrix([[J11,J12],[J21,J22]])\n",
    "pprint(J)"
   ]
  },
  {
   "cell_type": "code",
   "execution_count": 4,
   "metadata": {
    "tags": []
   },
   "outputs": [
    {
     "output_type": "stream",
     "name": "stdout",
     "text": "{2: 1, 3: 1}\n⎡⎛      ⎡⎡1⎤⎤⎞  ⎛      ⎡⎡0⎤⎤⎞⎤\n⎢⎜2, 1, ⎢⎢ ⎥⎥⎟, ⎜3, 1, ⎢⎢ ⎥⎥⎟⎥\n⎣⎝      ⎣⎣0⎦⎦⎠  ⎝      ⎣⎣1⎦⎦⎠⎦\n{-1: 1, -3: 1}\n⎡⎛       ⎡⎡0⎤⎤⎞  ⎛       ⎡⎡-1/3⎤⎤⎞⎤\n⎢⎜-3, 1, ⎢⎢ ⎥⎥⎟, ⎜-1, 1, ⎢⎢    ⎥⎥⎟⎥\n⎣⎝       ⎣⎣1⎦⎦⎠  ⎝       ⎣⎣ 1  ⎦⎦⎠⎦\n{-sqrt(2) - 1: 1, -1 + sqrt(2): 1}\n⎡⎛            ⎡⎡-√2 ⎤⎤⎞  ⎛            ⎡⎡√2⎤⎤⎞⎤\n⎢⎜            ⎢⎢────⎥⎥⎟  ⎜            ⎢⎢──⎥⎥⎟⎥\n⎢⎜-1 + √2, 1, ⎢⎢ 2  ⎥⎥⎟, ⎜-√2 - 1, 1, ⎢⎢2 ⎥⎥⎟⎥\n⎢⎜            ⎢⎢    ⎥⎥⎟  ⎜            ⎢⎢  ⎥⎥⎟⎥\n⎣⎝            ⎣⎣ 1  ⎦⎦⎠  ⎝            ⎣⎣1 ⎦⎦⎠⎦\n{-2: 1, -1: 1}\n⎡⎛       ⎡⎡1⎤⎤⎞  ⎛       ⎡⎡-2⎤⎤⎞⎤\n⎢⎜-2, 1, ⎢⎢ ⎥⎥⎟, ⎜-1, 1, ⎢⎢  ⎥⎥⎟⎥\n⎣⎝       ⎣⎣0⎦⎦⎠  ⎝       ⎣⎣1 ⎦⎦⎠⎦\n"
    }
   ],
   "source": [
    "#J en el punto critico\n",
    "Jc1=Matrix([[-2*0-0+2,-0],[-2*0,-2*0-2*0+3]])\n",
    "print(Jc1.eigenvals())\n",
    "pprint(Jc1.eigenvects())\n",
    "Jc2=Matrix([[-2*0-3+2,-0],[-2*3,-2*0-2*3+3]])\n",
    "print(Jc2.eigenvals())\n",
    "pprint(Jc2.eigenvects())\n",
    "Jc3=Matrix([[-2*1-1+2,-1],[-2*1,-2*1-2*1+3]])\n",
    "print(Jc3.eigenvals())\n",
    "pprint(Jc3.eigenvects())\n",
    "Jc4=Matrix([[-2*2-0+2,-2],[-2*0,-2*2-2*0+3]])\n",
    "print(Jc4.eigenvals())\n",
    "pprint(Jc4.eigenvects())"
   ]
  },
  {
   "cell_type": "markdown",
   "metadata": {},
   "source": [
    "El punto critico (0, 0) tiene eigenvalores reales positivos distintos, es nodo inestable. El punto (0, 3) tiene eigenvalores reales negativos distintos por lo que es un nodo estable. El punto (1, 1) tiene un eigenvalor positivo y otro negativo por lo que es un punto silla o col. El punto (2, 0) tiene eigenvalores reales negativos distintos por lo que es nodo estable."
   ]
  },
  {
   "cell_type": "code",
   "execution_count": null,
   "metadata": {},
   "outputs": [],
   "source": []
  }
 ]
}