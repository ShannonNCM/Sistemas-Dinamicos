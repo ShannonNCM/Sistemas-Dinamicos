{
 "metadata": {
  "language_info": {
   "codemirror_mode": {
    "name": "ipython",
    "version": 3
   },
   "file_extension": ".py",
   "mimetype": "text/x-python",
   "name": "python",
   "nbconvert_exporter": "python",
   "pygments_lexer": "ipython3",
   "version": 3
  },
  "orig_nbformat": 2,
  "kernelspec": {
   "name": "python_defaultSpec_1596084067770",
   "display_name": "Python 3.7.5 64-bit"
  }
 },
 "nbformat": 4,
 "nbformat_minor": 2,
 "cells": [
  {
   "cell_type": "markdown",
   "metadata": {},
   "source": [
    "Graficar los retratos de fase de los sistemas:"
   ]
  },
  {
   "cell_type": "code",
   "execution_count": 2,
   "metadata": {},
   "outputs": [],
   "source": [
    "from sympy import *\n",
    "#para poder graficar\n",
    "import matplotlib.pyplot as plt\n",
    "import numpy as np\n",
    "from scipy.integrate import odeint\n",
    "import pylab as pl"
   ]
  },
  {
   "cell_type": "markdown",
   "metadata": {},
   "source": [
    "a) dx/dt=y , dy/dt=x-y+x^3"
   ]
  },
  {
   "cell_type": "code",
   "execution_count": 3,
   "metadata": {
    "tags": []
   },
   "outputs": [
    {
     "output_type": "stream",
     "name": "stdout",
     "text": "[(0, 0), (-I, 0), (I, 0)]\n"
    }
   ],
   "source": [
    "#puntos criticos\n",
    "x,y=symbols('x,y')\n",
    "P=y\n",
    "Q=x-y+x**3\n",
    "#establecer P(x,y)=0 y Q(x,y)=0\n",
    "Peqn=Eq(P,0)\n",
    "Qeqn=Eq(Q,0)\n",
    "print(solve((Peqn,Qeqn),x,y))"
   ]
  },
  {
   "cell_type": "code",
   "execution_count": 4,
   "metadata": {
    "tags": []
   },
   "outputs": [
    {
     "output_type": "stream",
     "name": "stdout",
     "text": "⎡   0      1 ⎤\n⎢            ⎥\n⎢   2        ⎥\n⎣3⋅x  + 1  -1⎦\n"
    }
   ],
   "source": [
    "#encuentro la matriz de Jacobi\n",
    "J11=diff(P,x)\n",
    "J12=diff(P,y)\n",
    "J21=diff(Q,x)\n",
    "J22=diff(Q,y)\n",
    "J=Matrix([[J11,J12],[J21,J22]])\n",
    "pprint(J)"
   ]
  },
  {
   "cell_type": "code",
   "execution_count": 5,
   "metadata": {
    "tags": []
   },
   "outputs": [
    {
     "output_type": "stream",
     "name": "stdout",
     "text": "{0: 1, -1: 1}\n⎡⎛       ⎡⎡-1⎤⎤⎞  ⎛      ⎡⎡1⎤⎤⎞⎤\n⎢⎜-1, 1, ⎢⎢  ⎥⎥⎟, ⎜0, 1, ⎢⎢ ⎥⎥⎟⎥\n⎣⎝       ⎣⎣1 ⎦⎦⎠  ⎝      ⎣⎣0⎦⎦⎠⎦\n{0: 1, -1: 1}\n⎡⎛       ⎡⎡-1⎤⎤⎞  ⎛      ⎡⎡1⎤⎤⎞⎤\n⎢⎜-1, 1, ⎢⎢  ⎥⎥⎟, ⎜0, 1, ⎢⎢ ⎥⎥⎟⎥\n⎣⎝       ⎣⎣1 ⎦⎦⎠  ⎝      ⎣⎣0⎦⎦⎠⎦\n{0: 1, -1: 1}\n⎡⎛       ⎡⎡-1⎤⎤⎞  ⎛      ⎡⎡1⎤⎤⎞⎤\n⎢⎜-1, 1, ⎢⎢  ⎥⎥⎟, ⎜0, 1, ⎢⎢ ⎥⎥⎟⎥\n⎣⎝       ⎣⎣1 ⎦⎦⎠  ⎝      ⎣⎣0⎦⎦⎠⎦\n"
    }
   ],
   "source": [
    "#J en el punto critico\n",
    "Jc1=Matrix([[0,1],[0,-1]])\n",
    "print(Jc1.eigenvals())\n",
    "pprint(Jc1.eigenvects())\n",
    "Jc2=Matrix([[0,1],[0,-1]])\n",
    "print(Jc2.eigenvals())\n",
    "pprint(Jc2.eigenvects())\n",
    "Jc3=Matrix([[0,1],[0,-1]])\n",
    "print(Jc3.eigenvals())\n",
    "pprint(Jc3.eigenvects())"
   ]
  },
  {
   "cell_type": "code",
   "execution_count": 7,
   "metadata": {},
   "outputs": [],
   "source": [
    "#sistema\n",
    "def dx_dt(x,t):\n",
    "    return [0*x[0]+x[1],x[0]-x[1]+x[0]**3]\n",
    "#trayectorias en tiempo hacia adelante\n",
    "ts=np.linspace(0,10,500)\n",
    "ic=np.linspace(-3,3,6)\n",
    "for r in ic:\n",
    "    for s in ic:\n",
    "        x0=[r,s]\n",
    "        xs=odeint(dx_dt,x0,ts)\n",
    "        plt.plot(xs[:,0],xs[:,1],\"r-\")\n",
    "#trayectorias en tiempo hacia atras\n",
    "ts=np.linspace(0,-10,500)\n",
    "ic=np.linspace(-3,3,6)\n",
    "for r in ic:\n",
    "    for s in ic:\n",
    "        x0=[r,s]\n",
    "        xs=odeint(dx_dt,x0,ts)\n",
    "        plt.plot(xs[:,0],xs[:,1],\"r-\")\n",
    "#etiquetas de ejes y estilo de letra\n",
    "plt.xlabel('x',fontsize=10)\n",
    "plt.ylabel('y',fontsize=10)\n",
    "plt.tick_params(labelsize=10)\n",
    "plt.xlim(-3,3)\n",
    "plt.ylim(-3,3)\n",
    "plt.show()"
   ]
  },
  {
   "cell_type": "code",
   "execution_count": null,
   "metadata": {},
   "outputs": [],
   "source": []
  }
 ]
}