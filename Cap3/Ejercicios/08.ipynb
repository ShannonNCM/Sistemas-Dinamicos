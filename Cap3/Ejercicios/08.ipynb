{
 "metadata": {
  "language_info": {
   "codemirror_mode": {
    "name": "ipython",
    "version": 3
   },
   "file_extension": ".py",
   "mimetype": "text/x-python",
   "name": "python",
   "nbconvert_exporter": "python",
   "pygments_lexer": "ipython3",
   "version": 3
  },
  "orig_nbformat": 2,
  "kernelspec": {
   "name": "python_defaultSpec_1596689868263",
   "display_name": "Python 3.7.5 64-bit"
  }
 },
 "nbformat": 4,
 "nbformat_minor": 2,
 "cells": [
  {
   "cell_type": "markdown",
   "metadata": {},
   "source": [
    "Potencia P generada por agua con velocidad V se modela por: dp/dt=-ap+pV, dV/dt=1-bV-p^2. Donde a y b son positivos. Describir comportamiento cualitativo de los resultados."
   ]
  },
  {
   "cell_type": "code",
   "execution_count": 1,
   "metadata": {},
   "outputs": [],
   "source": [
    "from sympy import *\n",
    "from sympy.abc import p,V,t\n",
    "#para poder graficar\n",
    "import matplotlib.pyplot as plt\n",
    "import numpy as np\n",
    "from scipy.integrate import odeint\n",
    "import pylab as pl"
   ]
  },
  {
   "cell_type": "code",
   "execution_count": 3,
   "metadata": {
    "tags": []
   },
   "outputs": [
    {
     "output_type": "stream",
     "name": "stdout",
     "text": "[(0, 1/b), (-sqrt(-a*b + 1), a), (sqrt(-a*b + 1), a)]\n⎡⎛   1⎞  ⎛   __________   ⎞  ⎛  __________   ⎞⎤\n⎢⎜0, ─⎟, ⎝-╲╱ -a⋅b + 1 , a⎠, ⎝╲╱ -a⋅b + 1 , a⎠⎥\n⎣⎝   b⎠                                       ⎦\n⎡V - a  p ⎤\n⎢         ⎥\n⎣-2⋅p   -b⎦\n"
    }
   ],
   "source": [
    "#puntos criticos\n",
    "a,b=symbols('a,b')\n",
    "P=-a*p+p*V\n",
    "Q=1-b*V-p**2\n",
    "#establecer P(x,y)=0 y Q(x,y)=0\n",
    "Peqn=Eq(P,0)\n",
    "Qeqn=Eq(Q,0)\n",
    "print(solve((Peqn,Qeqn),p,V))\n",
    "pprint(solve((Peqn,Qeqn),p,V))\n",
    "#matriz Jacobiana\n",
    "J11=diff(P,p)\n",
    "J12=diff(P,V)\n",
    "J21=diff(Q,p)\n",
    "J22=diff(Q,V)\n",
    "J=Matrix([[J11,J12],[J21,J22]])\n",
    "pprint(J)"
   ]
  },
  {
   "cell_type": "code",
   "execution_count": 4,
   "metadata": {
    "tags": []
   },
   "outputs": [
    {
     "output_type": "stream",
     "name": "stdout",
     "text": "{-a + 1/b: 1, -b: 1}\n⎡⎛       ⎡⎡0⎤⎤⎞  ⎛     1     ⎡⎡1⎤⎤⎞⎤\n⎢⎜-b, 1, ⎢⎢ ⎥⎥⎟, ⎜-a + ─, 1, ⎢⎢ ⎥⎥⎟⎥\n⎣⎝       ⎣⎣1⎦⎦⎠  ⎝     b     ⎣⎣0⎦⎦⎠⎦\n{-b/2 - sqrt(8*a*b + b**2 - 8)/2: 1, -b/2 + sqrt(8*a*b + b**2 - 8)/2: 1}\n⎡⎛                              ⎡⎡         __________    ⎤⎤⎞  ⎛               \n⎢⎜         ________________     ⎢⎢     2⋅╲╱ -a⋅b + 1     ⎥⎥⎟  ⎜         ______\n⎢⎜        ╱          2          ⎢⎢───────────────────────⎥⎥⎟  ⎜        ╱      \n⎢⎜  b   ╲╱  8⋅a⋅b + b  - 8      ⎢⎢       ________________⎥⎥⎟  ⎜  b   ╲╱  8⋅a⋅b\n⎢⎜- ─ - ───────────────────, 1, ⎢⎢      ╱          2     ⎥⎥⎟, ⎜- ─ + ─────────\n⎢⎜  2            2              ⎢⎢b + ╲╱  8⋅a⋅b + b  - 8 ⎥⎥⎟  ⎜  2            \n⎢⎜                              ⎢⎢                       ⎥⎥⎟  ⎜               \n⎣⎝                              ⎣⎣           1           ⎦⎦⎠  ⎝               \n\n               ⎡⎡         __________    ⎤⎤⎞⎤\n__________     ⎢⎢     2⋅╲╱ -a⋅b + 1     ⎥⎥⎟⎥\n    2          ⎢⎢───────────────────────⎥⎥⎟⎥\n + b  - 8      ⎢⎢       ________________⎥⎥⎟⎥\n──────────, 1, ⎢⎢      ╱          2     ⎥⎥⎟⎥\n2              ⎢⎢b - ╲╱  8⋅a⋅b + b  - 8 ⎥⎥⎟⎥\n               ⎢⎢                       ⎥⎥⎟⎥\n               ⎣⎣           1           ⎦⎦⎠⎦\n{-b/2 - sqrt(8*a*b + b**2 - 8)/2: 1, -b/2 + sqrt(8*a*b + b**2 - 8)/2: 1}\n⎡⎛                              ⎡⎡         __________    ⎤⎤⎞  ⎛               \n⎢⎜         ________________     ⎢⎢    -2⋅╲╱ -a⋅b + 1     ⎥⎥⎟  ⎜         ______\n⎢⎜        ╱          2          ⎢⎢───────────────────────⎥⎥⎟  ⎜        ╱      \n⎢⎜  b   ╲╱  8⋅a⋅b + b  - 8      ⎢⎢       ________________⎥⎥⎟  ⎜  b   ╲╱  8⋅a⋅b\n⎢⎜- ─ - ───────────────────, 1, ⎢⎢      ╱          2     ⎥⎥⎟, ⎜- ─ + ─────────\n⎢⎜  2            2              ⎢⎢b + ╲╱  8⋅a⋅b + b  - 8 ⎥⎥⎟  ⎜  2            \n⎢⎜                              ⎢⎢                       ⎥⎥⎟  ⎜               \n⎣⎝                              ⎣⎣           1           ⎦⎦⎠  ⎝               \n\n               ⎡⎡         __________    ⎤⎤⎞⎤\n__________     ⎢⎢    -2⋅╲╱ -a⋅b + 1     ⎥⎥⎟⎥\n    2          ⎢⎢───────────────────────⎥⎥⎟⎥\n + b  - 8      ⎢⎢       ________________⎥⎥⎟⎥\n──────────, 1, ⎢⎢      ╱          2     ⎥⎥⎟⎥\n2              ⎢⎢b - ╲╱  8⋅a⋅b + b  - 8 ⎥⎥⎟⎥\n               ⎢⎢                       ⎥⎥⎟⎥\n               ⎣⎣           1           ⎦⎦⎠⎦\n"
    }
   ],
   "source": [
    "#J en el punto critico\n",
    "Jc1=Matrix([[(1/b)-a,0],[-2*0,-b]])\n",
    "print(Jc1.eigenvals())\n",
    "pprint(Jc1.eigenvects())\n",
    "Jc2=Matrix([[a-a,-sqrt(-a*b + 1)],[-2*(-sqrt(-a*b + 1)),-b]])\n",
    "print(Jc2.eigenvals())\n",
    "pprint(Jc2.eigenvects())\n",
    "Jc3=Matrix([[a-a,sqrt(-a*b + 1)],[-2*(sqrt(-a*b + 1)),-b]])\n",
    "print(Jc3.eigenvals())\n",
    "pprint(Jc3.eigenvects())"
   ]
  },
  {
   "cell_type": "markdown",
   "metadata": {},
   "source": [
    "El punto critico (0,1/b) tiene eigenvalores reales distintos negativos por lo que es un nodo estable, la potencia se hace cero y la velocidad se estabiliza en 1/b. \n",
    "\n",
    "El punto critico (-sqrt(-a*b + 1), a) (tengo duda con este)"
   ]
  }
 ]
}