{
 "metadata": {
  "language_info": {
   "codemirror_mode": {
    "name": "ipython",
    "version": 3
   },
   "file_extension": ".py",
   "mimetype": "text/x-python",
   "name": "python",
   "nbconvert_exporter": "python",
   "pygments_lexer": "ipython3",
   "version": 3
  },
  "orig_nbformat": 2,
  "kernelspec": {
   "name": "python_defaultSpec_1596953760134",
   "display_name": "Python 3.7.5 64-bit"
  }
 },
 "nbformat": 4,
 "nbformat_minor": 2,
 "cells": [
  {
   "cell_type": "markdown",
   "metadata": {},
   "source": [
    "Modelo economico dI/dt=I-KS, dS/dt=I-CS-G  a)graficar posibles curvas soluciones cuando C=1 interpretar la solucion en terminos economicos. Que pasa cuando C no es igual a 1?  b)graficar la curva solucion cuando K=4, C=2, G=4, I(0)=15 y S(0)=5."
   ]
  },
  {
   "cell_type": "code",
   "execution_count": 1,
   "metadata": {},
   "outputs": [],
   "source": [
    "from sympy import *\n",
    "from sympy.abc import I,S,t,K,C,G\n",
    "#para poder graficar\n",
    "import matplotlib.pyplot as plt\n",
    "import numpy as np\n",
    "from scipy.integrate import odeint\n",
    "import pylab as pl"
   ]
  },
  {
   "cell_type": "code",
   "execution_count": 7,
   "metadata": {
    "tags": []
   },
   "outputs": [
    {
     "output_type": "stream",
     "name": "stdout",
     "text": "{S: G/(K - 1), I: G*K/(K - 1)}\n⎡1  -K⎤\n⎢     ⎥\n⎣1  -1⎦\n"
    }
   ],
   "source": [
    "#puntos criticos\n",
    "P=I-K*S\n",
    "Q=I-1*S-G\n",
    "#establecer P(x,y)=0 y Q(x,y)=0\n",
    "Peqn=Eq(P,0)\n",
    "Qeqn=Eq(Q,0)\n",
    "print(solve((Peqn,Qeqn),I,S))\n",
    "#matriz Jacobiana\n",
    "J11=diff(P,I)\n",
    "J12=diff(P,S)\n",
    "J21=diff(Q,I)\n",
    "J22=diff(Q,S)\n",
    "J=Matrix([[J11,J12],[J21,J22]])\n",
    "pprint(J)"
   ]
  },
  {
   "cell_type": "code",
   "execution_count": 8,
   "metadata": {
    "tags": []
   },
   "outputs": [
    {
     "output_type": "stream",
     "name": "stdout",
     "text": "{-sqrt(1 - K): 1, sqrt(1 - K): 1}\n⎡⎛               ⎡⎡      _______⎤⎤⎞  ⎛              ⎡⎡  _______    ⎤⎤⎞⎤\n⎢⎜   _______     ⎢⎢1 - ╲╱ 1 - K ⎥⎥⎟  ⎜  _______     ⎢⎢╲╱ 1 - K  + 1⎥⎥⎟⎥\n⎢⎜-╲╱ 1 - K , 1, ⎢⎢             ⎥⎥⎟, ⎜╲╱ 1 - K , 1, ⎢⎢             ⎥⎥⎟⎥\n⎣⎝               ⎣⎣      1      ⎦⎦⎠  ⎝              ⎣⎣      1      ⎦⎦⎠⎦\n"
    }
   ],
   "source": [
    "#J en el punto critico\n",
    "Jc1=Matrix([[1,-K],[1,-1]])\n",
    "print(Jc1.eigenvals())\n",
    "pprint(Jc1.eigenvects())"
   ]
  },
  {
   "cell_type": "code",
   "execution_count": null,
   "metadata": {},
   "outputs": [],
   "source": []
  },
  {
   "cell_type": "code",
   "execution_count": 9,
   "metadata": {
    "tags": []
   },
   "outputs": [
    {
     "output_type": "stream",
     "name": "stdout",
     "text": "{I: 8, S: 2}\n⎡1  -4⎤\n⎢     ⎥\n⎣1  -2⎦\n"
    }
   ],
   "source": [
    "#puntos criticos\n",
    "P=I-4*S\n",
    "Q=I-2*S-4\n",
    "#establecer P(x,y)=0 y Q(x,y)=0\n",
    "Peqn=Eq(P,0)\n",
    "Qeqn=Eq(Q,0)\n",
    "print(solve((Peqn,Qeqn),I,S))\n",
    "#matriz Jacobiana\n",
    "J11=diff(P,I)\n",
    "J12=diff(P,S)\n",
    "J21=diff(Q,I)\n",
    "J22=diff(Q,S)\n",
    "J=Matrix([[J11,J12],[J21,J22]])\n",
    "pprint(J)"
   ]
  },
  {
   "cell_type": "code",
   "execution_count": 10,
   "metadata": {
    "tags": []
   },
   "outputs": [
    {
     "output_type": "stream",
     "name": "stdout",
     "text": "{-1/2 - sqrt(7)*I/2: 1, -1/2 + sqrt(7)*I/2: 1}\n⎡⎛               ⎡⎡   4    ⎤⎤⎞  ⎛               ⎡⎡   4    ⎤⎤⎞⎤\n⎢⎜               ⎢⎢────────⎥⎥⎟  ⎜               ⎢⎢────────⎥⎥⎟⎥\n⎢⎜  1   √7⋅ⅈ     ⎢⎢3   √7⋅ⅈ⎥⎥⎟  ⎜  1   √7⋅ⅈ     ⎢⎢3   √7⋅ⅈ⎥⎥⎟⎥\n⎢⎜- ─ - ────, 1, ⎢⎢─ + ────⎥⎥⎟, ⎜- ─ + ────, 1, ⎢⎢─ - ────⎥⎥⎟⎥\n⎢⎜  2    2       ⎢⎢2    2  ⎥⎥⎟  ⎜  2    2       ⎢⎢2    2  ⎥⎥⎟⎥\n⎢⎜               ⎢⎢        ⎥⎥⎟  ⎜               ⎢⎢        ⎥⎥⎟⎥\n⎣⎝               ⎣⎣   1    ⎦⎦⎠  ⎝               ⎣⎣   1    ⎦⎦⎠⎦\n"
    }
   ],
   "source": [
    "print(J.eigenvals())\n",
    "pprint(J.eigenvects())"
   ]
  },
  {
   "cell_type": "markdown",
   "metadata": {},
   "source": [
    "El punto critico tiene eigenvalores complejos con alfa<0 por lo que es un foco estable."
   ]
  },
  {
   "cell_type": "code",
   "execution_count": null,
   "metadata": {},
   "outputs": [],
   "source": []
  }
 ]
}