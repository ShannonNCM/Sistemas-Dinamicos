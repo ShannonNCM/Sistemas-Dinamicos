{
 "metadata": {
  "language_info": {
   "codemirror_mode": {
    "name": "ipython",
    "version": 3
   },
   "file_extension": ".py",
   "mimetype": "text/x-python",
   "name": "python",
   "nbconvert_exporter": "python",
   "pygments_lexer": "ipython3",
   "version": 3
  },
  "orig_nbformat": 2,
  "kernelspec": {
   "name": "python_defaultSpec_1596682082020",
   "display_name": "Python 3.7.5 64-bit"
  }
 },
 "nbformat": 4,
 "nbformat_minor": 2,
 "cells": [
  {
   "cell_type": "markdown",
   "metadata": {},
   "source": [
    "poblacion dependiente de la edad se puede modelar por: dp/dt=B+p(a-bp), dB/dt=B(c+(a-bp)). p es la poblabion y B es la razon de nacimientos; a,b,c son constantes positivas.Hallar puntos criticos y determinar su solucion de largo plazo"
   ]
  },
  {
   "cell_type": "code",
   "execution_count": 2,
   "metadata": {},
   "outputs": [],
   "source": [
    "from sympy import *\n",
    "from sympy.abc import p,B,t\n",
    "#para poder graficar\n",
    "import matplotlib.pyplot as plt\n",
    "import numpy as np\n",
    "from scipy.integrate import odeint\n",
    "import pylab as pl"
   ]
  },
  {
   "cell_type": "code",
   "execution_count": 7,
   "metadata": {
    "tags": []
   },
   "outputs": [
    {
     "output_type": "stream",
     "name": "stdout",
     "text": "[(0, 0), (a/b, 0), ((a + c)/b, c*(a + c)/b)]\n⎡a - 2⋅b⋅p       1     ⎤\n⎢                      ⎥\n⎣  -B⋅b     a - b⋅p + c⎦\n"
    }
   ],
   "source": [
    "#puntos criticos\n",
    "a,b,c=symbols('a,b,c')\n",
    "P=B+p*(a-b*p)\n",
    "Q=B*(c+(a-b*p))\n",
    "#establecer P(x,y)=0 y Q(x,y)=0\n",
    "Peqn=Eq(P,0)\n",
    "Qeqn=Eq(Q,0)\n",
    "print(solve((Peqn,Qeqn),p,B))\n",
    "#matriz Jacobiana\n",
    "J11=diff(P,p)\n",
    "J12=diff(P,B)\n",
    "J21=diff(Q,p)\n",
    "J22=diff(Q,B)\n",
    "J=Matrix([[J11,J12],[J21,J22]])\n",
    "pprint(J)"
   ]
  },
  {
   "cell_type": "code",
   "execution_count": 10,
   "metadata": {
    "tags": []
   },
   "outputs": [
    {
     "output_type": "stream",
     "name": "stdout",
     "text": "{a: 1, a + c: 1}\n⎡               ⎛          ⎡⎡1⎤⎤⎞⎤\n⎢⎛      ⎡⎡1⎤⎤⎞  ⎜          ⎢⎢─⎥⎥⎟⎥\n⎢⎜a, 1, ⎢⎢ ⎥⎥⎟, ⎜a + c, 1, ⎢⎢c⎥⎥⎟⎥\n⎢⎝      ⎣⎣0⎦⎦⎠  ⎜          ⎢⎢ ⎥⎥⎟⎥\n⎣               ⎝          ⎣⎣1⎦⎦⎠⎦\n{-a: 1, c: 1}\n⎡                ⎛      ⎡⎡ -1   ⎤⎤⎞⎤\n⎢⎛       ⎡⎡1⎤⎤⎞  ⎜      ⎢⎢──────⎥⎥⎟⎥\n⎢⎜-a, 1, ⎢⎢ ⎥⎥⎟, ⎜c, 1, ⎢⎢-a - c⎥⎥⎟⎥\n⎢⎝       ⎣⎣0⎦⎦⎠  ⎜      ⎢⎢      ⎥⎥⎟⎥\n⎣                ⎝      ⎣⎣  1   ⎦⎦⎠⎦\n{-c: 1, -a - c: 1}\n⎡⎛       ⎡⎡ -1   ⎤⎤⎞  ⎛           ⎡⎡1⎤⎤⎞⎤\n⎢⎜       ⎢⎢──────⎥⎥⎟  ⎜           ⎢⎢─⎥⎥⎟⎥\n⎢⎜-c, 1, ⎢⎢-a - c⎥⎥⎟, ⎜-a - c, 1, ⎢⎢c⎥⎥⎟⎥\n⎢⎜       ⎢⎢      ⎥⎥⎟  ⎜           ⎢⎢ ⎥⎥⎟⎥\n⎣⎝       ⎣⎣  1   ⎦⎦⎠  ⎝           ⎣⎣1⎦⎦⎠⎦\n"
    }
   ],
   "source": [
    "#J en el punto critico\n",
    "Jc1=Matrix([[a-2*b*0,1],[-0*b,a-b*0+c]])\n",
    "print(Jc1.eigenvals())\n",
    "pprint(Jc1.eigenvects())\n",
    "Jc2=Matrix([[a-2*b*(a/b),1],[-0*b,a-b*(a/b)+c]])\n",
    "print(Jc2.eigenvals())\n",
    "pprint(Jc2.eigenvects())\n",
    "Jc3=Matrix([[a-2*b*((a+c)/b),1],[-(c*(a + c)/b)*b,a-b*((a + c)/b)+c]])\n",
    "print(Jc3.eigenvals())\n",
    "pprint(Jc3.eigenvects())\n"
   ]
  },
  {
   "cell_type": "markdown",
   "metadata": {},
   "source": [
    "El punto critico (0,0) tiene eigenvalores reales positivos distintos por lo que es un nodo inestable. El punto critico (a/b,0) tiene eigenvalores reales uno negativo y otro positivo por lo que es un punto silla o col. El punto critico ((a + c)/b, c*(a + c)/b)) tiene eigenvalores reales negativos distintos por lo que es un nodo estable, por lo que la poblacion y la razon de nacimientos se estabiliza en los valores de este punto critico."
   ]
  }
 ]
}