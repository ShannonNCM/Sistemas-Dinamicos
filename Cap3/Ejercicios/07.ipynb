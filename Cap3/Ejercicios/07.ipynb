{
 "metadata": {
  "language_info": {
   "codemirror_mode": {
    "name": "ipython",
    "version": 3
   },
   "file_extension": ".py",
   "mimetype": "text/x-python",
   "name": "python",
   "nbconvert_exporter": "python",
   "pygments_lexer": "ipython3",
   "version": 3
  },
  "orig_nbformat": 2,
  "kernelspec": {
   "name": "python_defaultSpec_1596509360171",
   "display_name": "Python 3.7.5 64-bit"
  }
 },
 "nbformat": 4,
 "nbformat_minor": 2,
 "cells": [
  {
   "cell_type": "markdown",
   "metadata": {},
   "source": [
    "poblacion dependiente de la edad se puede modelar por: dp/dt=B+p(a-bp), dB/dt=B(c+(a-bp)). Hallar puntos criticos y determinar su solucion de largo plazo"
   ]
  },
  {
   "cell_type": "code",
   "execution_count": 2,
   "metadata": {},
   "outputs": [],
   "source": [
    "from sympy import *\n",
    "from sympy.abc import p,B,t\n",
    "#para poder graficar\n",
    "import matplotlib.pyplot as plt\n",
    "import numpy as np\n",
    "from scipy.integrate import odeint\n",
    "import pylab as pl"
   ]
  },
  {
   "cell_type": "code",
   "execution_count": 3,
   "metadata": {
    "tags": []
   },
   "outputs": [
    {
     "output_type": "stream",
     "name": "stdout",
     "text": "[(0, 0), (a/b, 0), ((a + c)/b, c*(a + c)/b)]\n"
    }
   ],
   "source": [
    "#puntos criticos\n",
    "a,b,c=symbols('a,b,c')\n",
    "P=B+p*(a-b*p)\n",
    "Q=B*(c+(a-b*p))\n",
    "#establecer P(x,y)=0 y Q(x,y)=0\n",
    "Peqn=Eq(P,0)\n",
    "Qeqn=Eq(Q,0)\n",
    "print(solve((Peqn,Qeqn),p,B))"
   ]
  },
  {
   "cell_type": "code",
   "execution_count": 4,
   "metadata": {
    "tags": []
   },
   "outputs": [
    {
     "output_type": "stream",
     "name": "stdout",
     "text": "⎡a - 2⋅b⋅p       1     ⎤\n⎢                      ⎥\n⎣  -B⋅b     a - b⋅p + c⎦\n"
    }
   ],
   "source": [
    "#matriz Jacobiana\n",
    "J11=diff(P,p)\n",
    "J12=diff(P,B)\n",
    "J21=diff(Q,p)\n",
    "J22=diff(Q,B)\n",
    "J=Matrix([[J11,J12],[J21,J22]])\n",
    "pprint(J)"
   ]
  },
  {
   "cell_type": "code",
   "execution_count": null,
   "metadata": {},
   "outputs": [],
   "source": []
  }
 ]
}