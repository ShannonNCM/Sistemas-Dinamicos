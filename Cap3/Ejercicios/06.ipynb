{
 "metadata": {
  "language_info": {
   "codemirror_mode": {
    "name": "ipython",
    "version": 3
   },
   "file_extension": ".py",
   "mimetype": "text/x-python",
   "name": "python",
   "nbconvert_exporter": "python",
   "pygments_lexer": "ipython3",
   "version": 3
  },
  "orig_nbformat": 2,
  "kernelspec": {
   "name": "python_defaultSpec_1596953325705",
   "display_name": "Python 3.7.5 64-bit"
  }
 },
 "nbformat": 4,
 "nbformat_minor": 2,
 "cells": [
  {
   "cell_type": "markdown",
   "metadata": {},
   "source": [
    "circuito electrico no lineal CR se modela con dx/dt=y, dy/dt=-x+x**3-(a+x)y. a no es cero. Dibujar los retratos de fase cuando a>0 y a<0 y dar interpretracion fisica."
   ]
  },
  {
   "cell_type": "code",
   "execution_count": 1,
   "metadata": {},
   "outputs": [],
   "source": [
    "from sympy import *\n",
    "from sympy.abc import x,y,t\n",
    "#para poder graficar\n",
    "import matplotlib.pyplot as plt\n",
    "import numpy as np\n",
    "from scipy.integrate import odeint\n",
    "import pylab as pl"
   ]
  },
  {
   "cell_type": "code",
   "execution_count": 2,
   "metadata": {
    "tags": []
   },
   "outputs": [
    {
     "output_type": "stream",
     "name": "stdout",
     "text": "[(-1, 0), (0, 0), (1, 0)]\n⎡     0          1   ⎤\n⎢                    ⎥\n⎢   2                ⎥\n⎣3⋅x  - y - 1  -a - x⎦\n"
    }
   ],
   "source": [
    "#puntos criticos\n",
    "x,y,a=symbols('x,y,a')\n",
    "P=y\n",
    "Q=-x+x**3-(a+x)*y\n",
    "#establecer P(x,y)=0 y Q(x,y)=0\n",
    "Peqn=Eq(P,0)\n",
    "Qeqn=Eq(Q,0)\n",
    "print(solve((Peqn,Qeqn),x,y))\n",
    "#matriz Jacobiana\n",
    "J11=diff(P,x)\n",
    "J12=diff(P,y)\n",
    "J21=diff(Q,x)\n",
    "J22=diff(Q,y)\n",
    "J=Matrix([[J11,J12],[J21,J22]])\n",
    "pprint(J)"
   ]
  },
  {
   "cell_type": "code",
   "execution_count": 3,
   "metadata": {
    "tags": []
   },
   "outputs": [
    {
     "output_type": "stream",
     "name": "stdout",
     "text": "{-a/2 - sqrt(a**2 - 2*a + 9)/2 + 1/2: 1, -a/2 + sqrt(a**2 - 2*a + 9)/2 + 1/2: 1}\n⎡⎛         ______________         ⎡⎡       ______________    ⎤⎤⎞  ⎛         __\n⎢⎜        ╱  2                    ⎢⎢      ╱  2               ⎥⎥⎟  ⎜        ╱  \n⎢⎜  a   ╲╱  a  - 2⋅a + 9    1     ⎢⎢a   ╲╱  a  - 2⋅a + 9    1⎥⎥⎟  ⎜  a   ╲╱  a\n⎢⎜- ─ - ───────────────── + ─, 1, ⎢⎢─ - ───────────────── - ─⎥⎥⎟, ⎜- ─ + ─────\n⎢⎜  2           2           2     ⎢⎢4           4           4⎥⎥⎟  ⎜  2        \n⎢⎜                                ⎢⎢                         ⎥⎥⎟  ⎜           \n⎣⎝                                ⎣⎣            1            ⎦⎦⎠  ⎝           \n\n____________         ⎡⎡       ______________    ⎤⎤⎞⎤\n2                    ⎢⎢      ╱  2               ⎥⎥⎟⎥\n  - 2⋅a + 9    1     ⎢⎢a   ╲╱  a  - 2⋅a + 9    1⎥⎥⎟⎥\n──────────── + ─, 1, ⎢⎢─ + ───────────────── - ─⎥⎥⎟⎥\n   2           2     ⎢⎢4           4           4⎥⎥⎟⎥\n                     ⎢⎢                         ⎥⎥⎟⎥\n                     ⎣⎣            1            ⎦⎦⎠⎦\n{-a/2 - sqrt((a - 2)*(a + 2))/2: 1, -a/2 + sqrt((a - 2)*(a + 2))/2: 1}\n⎡⎛                              ⎡⎡         ________⎤⎤⎞  ⎛                     \n⎢⎜        _________________     ⎢⎢        ╱  2     ⎥⎥⎟  ⎜        _____________\n⎢⎜  a   ╲╱ (a - 2)⋅(a + 2)      ⎢⎢  a   ╲╱  a  - 4 ⎥⎥⎟  ⎜  a   ╲╱ (a - 2)⋅(a +\n⎢⎜- ─ - ───────────────────, 1, ⎢⎢- ─ + ───────────⎥⎥⎟, ⎜- ─ + ───────────────\n⎢⎜  2            2              ⎢⎢  2        2     ⎥⎥⎟  ⎜  2            2     \n⎢⎜                              ⎢⎢                 ⎥⎥⎟  ⎜                     \n⎣⎝                              ⎣⎣        1        ⎦⎦⎠  ⎝                     \n\n         ⎡⎡         ________⎤⎤⎞⎤\n____     ⎢⎢        ╱  2     ⎥⎥⎟⎥\n 2)      ⎢⎢  a   ╲╱  a  - 4 ⎥⎥⎟⎥\n────, 1, ⎢⎢- ─ - ───────────⎥⎥⎟⎥\n         ⎢⎢  2        2     ⎥⎥⎟⎥\n         ⎢⎢                 ⎥⎥⎟⎥\n         ⎣⎣        1        ⎦⎦⎠⎦\n{-a/2 - sqrt(a**2 + 2*a + 9)/2 - 1/2: 1, -a/2 + sqrt(a**2 + 2*a + 9)/2 - 1/2: 1}\n⎡⎛         ______________         ⎡⎡       ______________    ⎤⎤⎞  ⎛         __\n⎢⎜        ╱  2                    ⎢⎢      ╱  2               ⎥⎥⎟  ⎜        ╱  \n⎢⎜  a   ╲╱  a  + 2⋅a + 9    1     ⎢⎢a   ╲╱  a  + 2⋅a + 9    1⎥⎥⎟  ⎜  a   ╲╱  a\n⎢⎜- ─ - ───────────────── - ─, 1, ⎢⎢─ - ───────────────── + ─⎥⎥⎟, ⎜- ─ + ─────\n⎢⎜  2           2           2     ⎢⎢4           4           4⎥⎥⎟  ⎜  2        \n⎢⎜                                ⎢⎢                         ⎥⎥⎟  ⎜           \n⎣⎝                                ⎣⎣            1            ⎦⎦⎠  ⎝           \n\n____________         ⎡⎡       ______________    ⎤⎤⎞⎤\n2                    ⎢⎢      ╱  2               ⎥⎥⎟⎥\n  + 2⋅a + 9    1     ⎢⎢a   ╲╱  a  + 2⋅a + 9    1⎥⎥⎟⎥\n──────────── - ─, 1, ⎢⎢─ + ───────────────── + ─⎥⎥⎟⎥\n   2           2     ⎢⎢4           4           4⎥⎥⎟⎥\n                     ⎢⎢                         ⎥⎥⎟⎥\n                     ⎣⎣            1            ⎦⎦⎠⎦\n"
    }
   ],
   "source": [
    "#J en el punto critico\n",
    "Jc1=J.subs([(x,-1),(y,0)])\n",
    "print(Jc1.eigenvals())\n",
    "pprint(Jc1.eigenvects())\n",
    "Jc2=J.subs([(x,0),(y,0)])\n",
    "print(Jc2.eigenvals())\n",
    "pprint(Jc2.eigenvects())\n",
    "Jc3=J.subs([(x,1),(y,0)])\n",
    "print(Jc3.eigenvals())\n",
    "pprint(Jc3.eigenvects())"
   ]
  },
  {
   "cell_type": "markdown",
   "metadata": {},
   "source": [
    "Para a>0:\n",
    "El punto critico (-1,0) tiene un eigenvalor negativo y otro positivo, por lo que es un punto silla o col. El punto critico (0,0) tiene eigenvalores distintos negativos, por lo que es nodo estable, esto indica que la corriente entonces disminuye con el tiempo hasta llegar a cero. El punto critico (1,0) tiene eigenvalor negativo y positivo por lo que es un punto silla o col.\n",
    "\n",
    "Para a<0:\n",
    "El punto critico (-1,0) tiene un eigenvalor negativo y otro positivo, por lo que es un punto silla o col. El punto critico (0,0) tiene eigenvalores distintos positivos, por lo que es un nodo inestable, lo cual indica que la corriente va aumentando con el tiempo. El punto critico (1,0) tiene eigenvalor negativo y positivo por lo que es un punto silla o col."
   ]
  },
  {
   "cell_type": "markdown",
   "metadata": {},
   "source": [
    "Los sistemas de fase graficados se encuentran en el script 06.py y en los cuadernos 061 y 062"
   ]
  },
  {
   "cell_type": "markdown",
   "metadata": {},
   "source": []
  }
 ]
}