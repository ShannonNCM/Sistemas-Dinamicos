{
 "metadata": {
  "language_info": {
   "codemirror_mode": {
    "name": "ipython",
    "version": 3
   },
   "file_extension": ".py",
   "mimetype": "text/x-python",
   "name": "python",
   "nbconvert_exporter": "python",
   "pygments_lexer": "ipython3",
   "version": 3
  },
  "orig_nbformat": 2,
  "kernelspec": {
   "name": "python_defaultSpec_1595916533839",
   "display_name": "Python 3.7.5 64-bit"
  }
 },
 "nbformat": 4,
 "nbformat_minor": 2,
 "cells": [
  {
   "cell_type": "code",
   "execution_count": 6,
   "metadata": {},
   "outputs": [],
   "source": [
    "from sympy import *"
   ]
  },
  {
   "cell_type": "markdown",
   "metadata": {},
   "source": [
    "a) hallar eigenvalores y eigenvectores de la matriz"
   ]
  },
  {
   "cell_type": "code",
   "execution_count": 7,
   "metadata": {
    "tags": []
   },
   "outputs": [
    {
     "output_type": "stream",
     "name": "stdout",
     "text": "{-10: 1, -3: 1}\n⎡⎛        ⎡⎡-2⎤⎤⎞  ⎛       ⎡⎡3/2⎤⎤⎞⎤\n⎢⎜-10, 1, ⎢⎢  ⎥⎥⎟, ⎜-3, 1, ⎢⎢   ⎥⎥⎟⎥\n⎣⎝        ⎣⎣1 ⎦⎦⎠  ⎝       ⎣⎣ 1 ⎦⎦⎠⎦\n"
    }
   ],
   "source": [
    "B=Matrix([[-7,6],[2,-6]])\n",
    "pprint(B.eigenvals())\n",
    "pprint(B.eigenvects())"
   ]
  },
  {
   "cell_type": "markdown",
   "metadata": {},
   "source": [
    "retrato de fase del sistema x=Bx y su forma canonica"
   ]
  },
  {
   "cell_type": "code",
   "execution_count": null,
   "metadata": {},
   "outputs": [],
   "source": [
    "b) "
   ]
  }
 ]
}