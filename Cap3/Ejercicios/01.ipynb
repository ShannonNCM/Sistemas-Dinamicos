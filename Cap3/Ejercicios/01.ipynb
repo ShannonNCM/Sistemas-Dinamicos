{
 "metadata": {
  "language_info": {
   "codemirror_mode": {
    "name": "ipython",
    "version": 3
   },
   "file_extension": ".py",
   "mimetype": "text/x-python",
   "name": "python",
   "nbconvert_exporter": "python",
   "pygments_lexer": "ipython3",
   "version": 3
  },
  "orig_nbformat": 2,
  "kernelspec": {
   "name": "python_defaultSpec_1595976257337",
   "display_name": "Python 3.7.5 64-bit"
  }
 },
 "nbformat": 4,
 "nbformat_minor": 2,
 "cells": [
  {
   "cell_type": "code",
   "execution_count": 21,
   "metadata": {},
   "outputs": [],
   "source": [
    "from sympy import *"
   ]
  },
  {
   "cell_type": "markdown",
   "metadata": {},
   "source": [
    "1."
   ]
  },
  {
   "cell_type": "markdown",
   "metadata": {},
   "source": [
    "a) hallar eigenvalores y eigenvectores de la matriz"
   ]
  },
  {
   "cell_type": "code",
   "execution_count": 22,
   "metadata": {
    "tags": []
   },
   "outputs": [
    {
     "output_type": "stream",
     "name": "stdout",
     "text": "{-10: 1, -3: 1}\n⎡⎛        ⎡⎡-2⎤⎤⎞  ⎛       ⎡⎡3/2⎤⎤⎞⎤\n⎢⎜-10, 1, ⎢⎢  ⎥⎥⎟, ⎜-3, 1, ⎢⎢   ⎥⎥⎟⎥\n⎣⎝        ⎣⎣1 ⎦⎦⎠  ⎝       ⎣⎣ 1 ⎦⎦⎠⎦\n"
    }
   ],
   "source": [
    "B=Matrix([[-7,6],[2,-6]])\n",
    "pprint(B.eigenvals())\n",
    "pprint(B.eigenvects())"
   ]
  },
  {
   "cell_type": "markdown",
   "metadata": {},
   "source": [
    "como los eigenvalores propios son reales y negativos entonces el punto critico es no estable."
   ]
  },
  {
   "cell_type": "markdown",
   "metadata": {},
   "source": [
    "retrato de fase del sistema x=Bx y su forma canonica"
   ]
  },
  {
   "cell_type": "code",
   "execution_count": 26,
   "metadata": {
    "tags": []
   },
   "outputs": [
    {
     "output_type": "stream",
     "name": "stdout",
     "text": "⎡       -10.0           0  ⎤\n⎢                          ⎥\n⎣2.22044604925031e-16  -3.0⎦\n"
    }
   ],
   "source": [
    "P=Matrix([[-2,3/2],[1,1]])\n",
    "J=(P**(-1))*B*P\n",
    "pprint(J)"
   ]
  },
  {
   "cell_type": "markdown",
   "metadata": {},
   "source": [
    "(deberia de ser una matriz diagonal... no se por que no me sale aca)\n"
   ]
  },
  {
   "cell_type": "markdown",
   "metadata": {},
   "source": [
    "b) sistema dx/dt=-4x-8y, dy/dt=-2y"
   ]
  },
  {
   "cell_type": "code",
   "execution_count": 28,
   "metadata": {
    "tags": []
   },
   "outputs": [
    {
     "output_type": "stream",
     "name": "stdout",
     "text": "{-4: 1, -2: 1}\n⎡⎛       ⎡⎡1⎤⎤⎞  ⎛       ⎡⎡-4⎤⎤⎞⎤\n⎢⎜-4, 1, ⎢⎢ ⎥⎥⎟, ⎜-2, 1, ⎢⎢  ⎥⎥⎟⎥\n⎣⎝       ⎣⎣0⎦⎦⎠  ⎝       ⎣⎣1 ⎦⎦⎠⎦\n"
    }
   ],
   "source": [
    "M=Matrix([[-4,-8],[0,-2]])\n",
    "pprint(M.eigenvals())\n",
    "pprint(M.eigenvects())"
   ]
  },
  {
   "cell_type": "markdown",
   "metadata": {},
   "source": [
    "como los eigenvalores propios son reales y negativos entonces el punto critico es nodo estable"
   ]
  },
  {
   "cell_type": "code",
   "execution_count": null,
   "metadata": {},
   "outputs": [],
   "source": []
  }
 ]
}