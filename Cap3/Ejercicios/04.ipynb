{
 "metadata": {
  "language_info": {
   "codemirror_mode": {
    "name": "ipython",
    "version": 3
   },
   "file_extension": ".py",
   "mimetype": "text/x-python",
   "name": "python",
   "nbconvert_exporter": "python",
   "pygments_lexer": "ipython3",
   "version": 3
  },
  "orig_nbformat": 2,
  "kernelspec": {
   "name": "python_defaultSpec_1596952779807",
   "display_name": "Python 3.7.5 64-bit"
  }
 },
 "nbformat": 4,
 "nbformat_minor": 2,
 "cells": [
  {
   "cell_type": "markdown",
   "metadata": {},
   "source": [
    "Graficar los retratos de fase de los sistemas:"
   ]
  },
  {
   "cell_type": "code",
   "execution_count": 1,
   "metadata": {},
   "outputs": [],
   "source": [
    "from sympy import *\n",
    "#para poder graficar\n",
    "import matplotlib.pyplot as plt\n",
    "import numpy as np\n",
    "from scipy.integrate import odeint\n",
    "import pylab as pl"
   ]
  },
  {
   "cell_type": "markdown",
   "metadata": {},
   "source": [
    "a) dx/dt=y , dy/dt=x-y+x^3"
   ]
  },
  {
   "cell_type": "code",
   "execution_count": 2,
   "metadata": {
    "tags": []
   },
   "outputs": [
    {
     "output_type": "stream",
     "name": "stdout",
     "text": "[(0, 0), (-I, 0), (I, 0)]\n"
    }
   ],
   "source": [
    "#puntos criticos\n",
    "x,y=symbols('x,y')\n",
    "P=y\n",
    "Q=x-y+x**3\n",
    "#establecer P(x,y)=0 y Q(x,y)=0\n",
    "Peqn=Eq(P,0)\n",
    "Qeqn=Eq(Q,0)\n",
    "print(solve((Peqn,Qeqn),x,y))"
   ]
  },
  {
   "cell_type": "code",
   "execution_count": 3,
   "metadata": {
    "tags": []
   },
   "outputs": [
    {
     "output_type": "stream",
     "name": "stdout",
     "text": "⎡   0      1 ⎤\n⎢            ⎥\n⎢   2        ⎥\n⎣3⋅x  + 1  -1⎦\n"
    }
   ],
   "source": [
    "#encuentro la matriz Jacobiana\n",
    "J11=diff(P,x)\n",
    "J12=diff(P,y)\n",
    "J21=diff(Q,x)\n",
    "J22=diff(Q,y)\n",
    "J=Matrix([[J11,J12],[J21,J22]])\n",
    "pprint(J)"
   ]
  },
  {
   "cell_type": "code",
   "execution_count": 5,
   "metadata": {
    "tags": []
   },
   "outputs": [
    {
     "output_type": "stream",
     "name": "stdout",
     "text": "{-sqrt(5)/2 - 1/2: 1, -1/2 + sqrt(5)/2: 1}\n⎡⎛             ⎡⎡ -1   ⎤⎤⎞  ⎛             ⎡⎡ -1   ⎤⎤⎞⎤\n⎢⎜             ⎢⎢──────⎥⎥⎟  ⎜             ⎢⎢──────⎥⎥⎟⎥\n⎢⎜  1   √5     ⎢⎢1   √5⎥⎥⎟  ⎜  √5   1     ⎢⎢1   √5⎥⎥⎟⎥\n⎢⎜- ─ + ──, 1, ⎢⎢─ - ──⎥⎥⎟, ⎜- ── - ─, 1, ⎢⎢─ + ──⎥⎥⎟⎥\n⎢⎜  2   2      ⎢⎢2   2 ⎥⎥⎟  ⎜  2    2     ⎢⎢2   2 ⎥⎥⎟⎥\n⎢⎜             ⎢⎢      ⎥⎥⎟  ⎜             ⎢⎢      ⎥⎥⎟⎥\n⎣⎝             ⎣⎣  1   ⎦⎦⎠  ⎝             ⎣⎣  1   ⎦⎦⎠⎦\n"
    }
   ],
   "source": [
    "#J en el punto critico\n",
    "Jc1=J.subs([(x,0),(y,0)])\n",
    "print(Jc1.eigenvals())\n",
    "pprint(Jc1.eigenvects())"
   ]
  },
  {
   "cell_type": "markdown",
   "metadata": {},
   "source": [
    "El punto critico (0,0) tiene eigenvalres reales distintos, positivo y negativo por lo que el punto critico es un punto silla o col."
   ]
  },
  {
   "cell_type": "markdown",
   "metadata": {},
   "source": [
    "b) dx/dt=-2x-y+2 , dy/dt=xy"
   ]
  },
  {
   "cell_type": "code",
   "execution_count": 6,
   "metadata": {
    "tags": []
   },
   "outputs": [
    {
     "output_type": "stream",
     "name": "stdout",
     "text": "[(0, 2), (1, 0)]\n"
    }
   ],
   "source": [
    "#puntos criticos\n",
    "x,y=symbols('x,y')\n",
    "P=-2*x-y+2\n",
    "Q=x*y\n",
    "#establecer P(x,y)=0 y Q(x,y)=0\n",
    "Peqn=Eq(P,0)\n",
    "Qeqn=Eq(Q,0)\n",
    "print(solve((Peqn,Qeqn),x,y))"
   ]
  },
  {
   "cell_type": "code",
   "execution_count": 7,
   "metadata": {
    "tags": []
   },
   "outputs": [
    {
     "output_type": "stream",
     "name": "stdout",
     "text": "⎡-2  -1⎤\n⎢      ⎥\n⎣y   x ⎦\n"
    }
   ],
   "source": [
    "#encuentro la matriz Jacobiana\n",
    "J11=diff(P,x)\n",
    "J12=diff(P,y)\n",
    "J21=diff(Q,x)\n",
    "J22=diff(Q,y)\n",
    "J=Matrix([[J11,J12],[J21,J22]])\n",
    "pprint(J)"
   ]
  },
  {
   "cell_type": "code",
   "execution_count": 8,
   "metadata": {
    "tags": []
   },
   "outputs": [
    {
     "output_type": "stream",
     "name": "stdout",
     "text": "{-1 - I: 1, -1 + I: 1}\n⎡⎛           ⎡⎡  1   ⅈ⎤⎤⎞  ⎛           ⎡⎡  1   ⅈ⎤⎤⎞⎤\n⎢⎜           ⎢⎢- ─ - ─⎥⎥⎟  ⎜           ⎢⎢- ─ + ─⎥⎥⎟⎥\n⎢⎜-1 - ⅈ, 1, ⎢⎢  2   2⎥⎥⎟, ⎜-1 + ⅈ, 1, ⎢⎢  2   2⎥⎥⎟⎥\n⎢⎜           ⎢⎢       ⎥⎥⎟  ⎜           ⎢⎢       ⎥⎥⎟⎥\n⎣⎝           ⎣⎣   1   ⎦⎦⎠  ⎝           ⎣⎣   1   ⎦⎦⎠⎦\n{-2: 1, 1: 1}\n⎡⎛       ⎡⎡1⎤⎤⎞  ⎛      ⎡⎡-1/3⎤⎤⎞⎤\n⎢⎜-2, 1, ⎢⎢ ⎥⎥⎟, ⎜1, 1, ⎢⎢    ⎥⎥⎟⎥\n⎣⎝       ⎣⎣0⎦⎦⎠  ⎝      ⎣⎣ 1  ⎦⎦⎠⎦\n"
    }
   ],
   "source": [
    "#J en el punto critico\n",
    "Jc1=J.subs([(x,0),(y,2)])\n",
    "print(Jc1.eigenvals())\n",
    "pprint(Jc1.eigenvects())\n",
    "Jc2=J.subs([(x,1),(y,0)])\n",
    "print(Jc2.eigenvals())\n",
    "pprint(Jc2.eigenvects())"
   ]
  },
  {
   "cell_type": "markdown",
   "metadata": {},
   "source": [
    "El punto critico (0,2) tiene eigenvalores reales iguales y dos eigenvectores independientes, por lo que es un nodo singular. \n",
    "El punto critico (1,0) tiene eigenvalores reales distintos negativo y positivo, por lo tanto es un punto silla o col."
   ]
  },
  {
   "cell_type": "markdown",
   "metadata": {},
   "source": [
    "c) dx/dt=x^2-y^2 , dy/dt=xy-1"
   ]
  },
  {
   "cell_type": "code",
   "execution_count": 9,
   "metadata": {
    "tags": []
   },
   "outputs": [
    {
     "output_type": "stream",
     "name": "stdout",
     "text": "[(-1, -1), (1, 1), (-I, I), (I, -I)]\n"
    }
   ],
   "source": [
    "#puntos criticos\n",
    "x,y=symbols('x,y')\n",
    "P=x**2-y**2\n",
    "Q=x*y-1\n",
    "#establecer P(x,y)=0 y Q(x,y)=0\n",
    "Peqn=Eq(P,0)\n",
    "Qeqn=Eq(Q,0)\n",
    "print(solve((Peqn,Qeqn),x,y))"
   ]
  },
  {
   "cell_type": "code",
   "execution_count": 10,
   "metadata": {
    "tags": []
   },
   "outputs": [
    {
     "output_type": "stream",
     "name": "stdout",
     "text": "⎡2⋅x  -2⋅y⎤\n⎢         ⎥\n⎣ y    x  ⎦\n"
    }
   ],
   "source": [
    "#encuentro la matriz Jacobiana\n",
    "J11=diff(P,x)\n",
    "J12=diff(P,y)\n",
    "J21=diff(Q,x)\n",
    "J22=diff(Q,y)\n",
    "J=Matrix([[J11,J12],[J21,J22]])\n",
    "pprint(J)"
   ]
  },
  {
   "cell_type": "code",
   "execution_count": 11,
   "metadata": {
    "tags": []
   },
   "outputs": [
    {
     "output_type": "stream",
     "name": "stdout",
     "text": "{-3/2 - sqrt(7)*I/2: 1, -3/2 + sqrt(7)*I/2: 1}\n⎡⎛               ⎡⎡    2     ⎤⎤⎞  ⎛               ⎡⎡    2     ⎤⎤⎞⎤\n⎢⎜               ⎢⎢──────────⎥⎥⎟  ⎜               ⎢⎢──────────⎥⎥⎟⎥\n⎢⎜  3   √7⋅ⅈ     ⎢⎢  1   √7⋅ⅈ⎥⎥⎟  ⎜  3   √7⋅ⅈ     ⎢⎢  1   √7⋅ⅈ⎥⎥⎟⎥\n⎢⎜- ─ - ────, 1, ⎢⎢- ─ + ────⎥⎥⎟, ⎜- ─ + ────, 1, ⎢⎢- ─ - ────⎥⎥⎟⎥\n⎢⎜  2    2       ⎢⎢  2    2  ⎥⎥⎟  ⎜  2    2       ⎢⎢  2    2  ⎥⎥⎟⎥\n⎢⎜               ⎢⎢          ⎥⎥⎟  ⎜               ⎢⎢          ⎥⎥⎟⎥\n⎣⎝               ⎣⎣    1     ⎦⎦⎠  ⎝               ⎣⎣    1     ⎦⎦⎠⎦\n{3/2 - sqrt(7)*I/2: 1, 3/2 + sqrt(7)*I/2: 1}\n⎡⎛             ⎡⎡   2    ⎤⎤⎞  ⎛             ⎡⎡   2    ⎤⎤⎞⎤\n⎢⎜             ⎢⎢────────⎥⎥⎟  ⎜             ⎢⎢────────⎥⎥⎟⎥\n⎢⎜3   √7⋅ⅈ     ⎢⎢1   √7⋅ⅈ⎥⎥⎟  ⎜3   √7⋅ⅈ     ⎢⎢1   √7⋅ⅈ⎥⎥⎟⎥\n⎢⎜─ - ────, 1, ⎢⎢─ + ────⎥⎥⎟, ⎜─ + ────, 1, ⎢⎢─ - ────⎥⎥⎟⎥\n⎢⎜2    2       ⎢⎢2    2  ⎥⎥⎟  ⎜2    2       ⎢⎢2    2  ⎥⎥⎟⎥\n⎢⎜             ⎢⎢        ⎥⎥⎟  ⎜             ⎢⎢        ⎥⎥⎟⎥\n⎣⎝             ⎣⎣   1    ⎦⎦⎠  ⎝             ⎣⎣   1    ⎦⎦⎠⎦\n"
    }
   ],
   "source": [
    "#J en el punto critico\n",
    "Jc1=J.subs([(x,-1),(y,1)])\n",
    "print(Jc1.eigenvals())\n",
    "pprint(Jc1.eigenvects())\n",
    "Jc2=J.subs([(x,1),(y,1)])\n",
    "print(Jc2.eigenvals())\n",
    "pprint(Jc2.eigenvects())"
   ]
  },
  {
   "cell_type": "markdown",
   "metadata": {},
   "source": [
    "El punto critico (-1,-1) tiene eigenvalores complejos con alfa<0, por lo que es un foco estable. \n",
    "El punto critico (1,1) tiene eigenvalores complejos con alfa>0, por lo tanto es un foco inestable."
   ]
  },
  {
   "cell_type": "markdown",
   "metadata": {},
   "source": [
    "d) dx/dt=2-x-y^2 , dy/dt=-y(x^2+y^2-3x+1)"
   ]
  },
  {
   "cell_type": "code",
   "execution_count": 12,
   "metadata": {
    "tags": []
   },
   "outputs": [
    {
     "output_type": "stream",
     "name": "stdout",
     "text": "[(1, -1), (1, 1), (2, 0), (3, -I), (3, I)]\n"
    }
   ],
   "source": [
    "#puntos criticos\n",
    "x,y=symbols('x,y')\n",
    "P=2-x-y**2\n",
    "Q=-y*(x**2+y**2-3*x+1)\n",
    "#establecer P(x,y)=0 y Q(x,y)=0\n",
    "Peqn=Eq(P,0)\n",
    "Qeqn=Eq(Q,0)\n",
    "print(solve((Peqn,Qeqn),x,y))"
   ]
  },
  {
   "cell_type": "code",
   "execution_count": 13,
   "metadata": {
    "tags": []
   },
   "outputs": [
    {
     "output_type": "stream",
     "name": "stdout",
     "text": "⎡     -1               -2⋅y         ⎤\n⎢                                   ⎥\n⎢                 2            2    ⎥\n⎣-y⋅(2⋅x - 3)  - x  + 3⋅x - 3⋅y  - 1⎦\n"
    }
   ],
   "source": [
    "#encuentro la matriz Jacobiana\n",
    "J11=diff(P,x)\n",
    "J12=diff(P,y)\n",
    "J21=diff(Q,x)\n",
    "J22=diff(Q,y)\n",
    "J=Matrix([[J11,J12],[J21,J22]])\n",
    "pprint(J)"
   ]
  },
  {
   "cell_type": "code",
   "execution_count": 14,
   "metadata": {
    "tags": []
   },
   "outputs": [
    {
     "output_type": "stream",
     "name": "stdout",
     "text": "{-3/2 - sqrt(7)*I/2: 1, -3/2 + sqrt(7)*I/2: 1}\n⎡⎛               ⎡⎡  -2    ⎤⎤⎞  ⎛               ⎡⎡  -2    ⎤⎤⎞⎤\n⎢⎜               ⎢⎢────────⎥⎥⎟  ⎜               ⎢⎢────────⎥⎥⎟⎥\n⎢⎜  3   √7⋅ⅈ     ⎢⎢1   √7⋅ⅈ⎥⎥⎟  ⎜  3   √7⋅ⅈ     ⎢⎢1   √7⋅ⅈ⎥⎥⎟⎥\n⎢⎜- ─ - ────, 1, ⎢⎢─ + ────⎥⎥⎟, ⎜- ─ + ────, 1, ⎢⎢─ - ────⎥⎥⎟⎥\n⎢⎜  2    2       ⎢⎢2    2  ⎥⎥⎟  ⎜  2    2       ⎢⎢2    2  ⎥⎥⎟⎥\n⎢⎜               ⎢⎢        ⎥⎥⎟  ⎜               ⎢⎢        ⎥⎥⎟⎥\n⎣⎝               ⎣⎣   1    ⎦⎦⎠  ⎝               ⎣⎣   1    ⎦⎦⎠⎦\n{-3/2 - sqrt(7)*I/2: 1, -3/2 + sqrt(7)*I/2: 1}\n⎡⎛               ⎡⎡   2    ⎤⎤⎞  ⎛               ⎡⎡   2    ⎤⎤⎞⎤\n⎢⎜               ⎢⎢────────⎥⎥⎟  ⎜               ⎢⎢────────⎥⎥⎟⎥\n⎢⎜  3   √7⋅ⅈ     ⎢⎢1   √7⋅ⅈ⎥⎥⎟  ⎜  3   √7⋅ⅈ     ⎢⎢1   √7⋅ⅈ⎥⎥⎟⎥\n⎢⎜- ─ - ────, 1, ⎢⎢─ + ────⎥⎥⎟, ⎜- ─ + ────, 1, ⎢⎢─ - ────⎥⎥⎟⎥\n⎢⎜  2    2       ⎢⎢2    2  ⎥⎥⎟  ⎜  2    2       ⎢⎢2    2  ⎥⎥⎟⎥\n⎢⎜               ⎢⎢        ⎥⎥⎟  ⎜               ⎢⎢        ⎥⎥⎟⎥\n⎣⎝               ⎣⎣   1    ⎦⎦⎠  ⎝               ⎣⎣   1    ⎦⎦⎠⎦\n{-1: 1, 1: 1}\n⎡⎛       ⎡⎡1⎤⎤⎞  ⎛      ⎡⎡0⎤⎤⎞⎤\n⎢⎜-1, 1, ⎢⎢ ⎥⎥⎟, ⎜1, 1, ⎢⎢ ⎥⎥⎟⎥\n⎣⎝       ⎣⎣0⎦⎦⎠  ⎝      ⎣⎣1⎦⎦⎠⎦\n"
    }
   ],
   "source": [
    "#J en el punto critico\n",
    "Jc1=J.subs([(x,1),(y,-1)])\n",
    "print(Jc1.eigenvals())\n",
    "pprint(Jc1.eigenvects())\n",
    "Jc2=J.subs([(x,1),(y,1)])\n",
    "print(Jc2.eigenvals())\n",
    "pprint(Jc2.eigenvects())\n",
    "Jc3=J.subs([(x,2),(y,0)])\n",
    "print(Jc3.eigenvals())\n",
    "pprint(Jc3.eigenvects())"
   ]
  },
  {
   "cell_type": "markdown",
   "metadata": {},
   "source": [
    "El punto critico (1,-1) tiene eigenvalores complejos con alfa<0, por lo que es un foco estable. El punto critico (1,1) tiene eigenvalores complejos con alfa<0, por lo tanto es un foco estable. El punto critico (2,0) tiene eigenvalores reales uno positivo y el otro negativo por lo que es un punto silla o col."
   ]
  },
  {
   "cell_type": "markdown",
   "metadata": {},
   "source": [
    "e) dx/dt=y^2 , dy/dt=x^2"
   ]
  },
  {
   "cell_type": "code",
   "execution_count": 15,
   "metadata": {
    "tags": []
   },
   "outputs": [
    {
     "output_type": "stream",
     "name": "stdout",
     "text": "[(0, 0)]\n"
    }
   ],
   "source": [
    "#puntos criticos\n",
    "x,y=symbols('x,y')\n",
    "P=y**2\n",
    "Q=x**2\n",
    "#establecer P(x,y)=0 y Q(x,y)=0\n",
    "Peqn=Eq(P,0)\n",
    "Qeqn=Eq(Q,0)\n",
    "print(solve((Peqn,Qeqn),x,y))"
   ]
  },
  {
   "cell_type": "code",
   "execution_count": 16,
   "metadata": {
    "tags": []
   },
   "outputs": [
    {
     "output_type": "stream",
     "name": "stdout",
     "text": "⎡ 0   2⋅y⎤\n⎢        ⎥\n⎣2⋅x   0 ⎦\n"
    }
   ],
   "source": [
    "#encuentro la matriz Jacobiana\n",
    "J11=diff(P,x)\n",
    "J12=diff(P,y)\n",
    "J21=diff(Q,x)\n",
    "J22=diff(Q,y)\n",
    "J=Matrix([[J11,J12],[J21,J22]])\n",
    "pprint(J)"
   ]
  },
  {
   "cell_type": "code",
   "execution_count": 17,
   "metadata": {
    "tags": []
   },
   "outputs": [
    {
     "output_type": "stream",
     "name": "stdout",
     "text": "{0: 2}\n⎡⎛      ⎡⎡1⎤  ⎡0⎤⎤⎞⎤\n⎢⎜0, 2, ⎢⎢ ⎥, ⎢ ⎥⎥⎟⎥\n⎣⎝      ⎣⎣0⎦  ⎣1⎦⎦⎠⎦\n"
    }
   ],
   "source": [
    "#J en el punto critico\n",
    "Jc1=J.subs([(x,0),(y,0)])\n",
    "print(Jc1.eigenvals())\n",
    "pprint(Jc1.eigenvects())"
   ]
  },
  {
   "cell_type": "markdown",
   "metadata": {},
   "source": [
    "El punto critico (0,0) tiene eigenvalores repetidos con dos vectores lineales independientes, por lo que es un nodo singular."
   ]
  },
  {
   "cell_type": "markdown",
   "metadata": {},
   "source": [
    "f) dx/dt=x^2 , dy/dt=y^2"
   ]
  },
  {
   "cell_type": "code",
   "execution_count": 18,
   "metadata": {
    "tags": []
   },
   "outputs": [
    {
     "output_type": "stream",
     "name": "stdout",
     "text": "[(0, 0)]\n"
    }
   ],
   "source": [
    "#puntos criticos\n",
    "x,y=symbols('x,y')\n",
    "P=x**2\n",
    "Q=y**2\n",
    "#establecer P(x,y)=0 y Q(x,y)=0\n",
    "Peqn=Eq(P,0)\n",
    "Qeqn=Eq(Q,0)\n",
    "print(solve((Peqn,Qeqn),x,y))"
   ]
  },
  {
   "cell_type": "code",
   "execution_count": 19,
   "metadata": {
    "tags": []
   },
   "outputs": [
    {
     "output_type": "stream",
     "name": "stdout",
     "text": "⎡2⋅x   0 ⎤\n⎢        ⎥\n⎣ 0   2⋅y⎦\n"
    }
   ],
   "source": [
    "#encuentro la matriz Jacobiana\n",
    "J11=diff(P,x)\n",
    "J12=diff(P,y)\n",
    "J21=diff(Q,x)\n",
    "J22=diff(Q,y)\n",
    "J=Matrix([[J11,J12],[J21,J22]])\n",
    "pprint(J)"
   ]
  },
  {
   "cell_type": "code",
   "execution_count": 20,
   "metadata": {
    "tags": []
   },
   "outputs": [
    {
     "output_type": "stream",
     "name": "stdout",
     "text": "{0: 2}\n⎡⎛      ⎡⎡1⎤  ⎡0⎤⎤⎞⎤\n⎢⎜0, 2, ⎢⎢ ⎥, ⎢ ⎥⎥⎟⎥\n⎣⎝      ⎣⎣0⎦  ⎣1⎦⎦⎠⎦\n"
    }
   ],
   "source": [
    "#J en el punto critico\n",
    "Jc1=J.subs([(x,0),(y,0)])\n",
    "print(Jc1.eigenvals())\n",
    "pprint(Jc1.eigenvects())"
   ]
  },
  {
   "cell_type": "markdown",
   "metadata": {},
   "source": [
    "El punto critico (0,0) tiene eigenvalores repetidos con dos vectores lineales independientes, por lo que es un nodo singular."
   ]
  },
  {
   "cell_type": "markdown",
   "metadata": {},
   "source": [
    "g) dx/dt=y , dy/dt=x^3"
   ]
  },
  {
   "cell_type": "code",
   "execution_count": 21,
   "metadata": {
    "tags": []
   },
   "outputs": [
    {
     "output_type": "stream",
     "name": "stdout",
     "text": "[(0, 0)]\n"
    }
   ],
   "source": [
    "#puntos criticos\n",
    "x,y=symbols('x,y')\n",
    "P=y\n",
    "Q=x**3\n",
    "#establecer P(x,y)=0 y Q(x,y)=0\n",
    "Peqn=Eq(P,0)\n",
    "Qeqn=Eq(Q,0)\n",
    "print(solve((Peqn,Qeqn),x,y))"
   ]
  },
  {
   "cell_type": "code",
   "execution_count": 22,
   "metadata": {
    "tags": []
   },
   "outputs": [
    {
     "output_type": "stream",
     "name": "stdout",
     "text": "⎡ 0    1⎤\n⎢       ⎥\n⎢   2   ⎥\n⎣3⋅x   0⎦\n"
    }
   ],
   "source": [
    "#encuentro la matriz Jacobiana\n",
    "J11=diff(P,x)\n",
    "J12=diff(P,y)\n",
    "J21=diff(Q,x)\n",
    "J22=diff(Q,y)\n",
    "J=Matrix([[J11,J12],[J21,J22]])\n",
    "pprint(J)"
   ]
  },
  {
   "cell_type": "code",
   "execution_count": 23,
   "metadata": {
    "tags": []
   },
   "outputs": [
    {
     "output_type": "stream",
     "name": "stdout",
     "text": "{0: 2}\n⎡⎛      ⎡⎡1⎤⎤⎞⎤\n⎢⎜0, 2, ⎢⎢ ⎥⎥⎟⎥\n⎣⎝      ⎣⎣0⎦⎦⎠⎦\n"
    }
   ],
   "source": [
    "#J en el punto critico\n",
    "Jc1=J.subs([(x,0),(y,0)])\n",
    "print(Jc1.eigenvals())\n",
    "pprint(Jc1.eigenvects())"
   ]
  },
  {
   "cell_type": "markdown",
   "metadata": {},
   "source": [
    "El punto critico (0,0) tiene eigenvalores repetidos con un solo vector linealmente independiente, por lo que es un nodo degenerado."
   ]
  },
  {
   "cell_type": "markdown",
   "metadata": {},
   "source": [
    "g) dx/dt=x , dy/dt=mu-y^2, para mu<0, mu=0 y mu>0"
   ]
  },
  {
   "cell_type": "code",
   "execution_count": 24,
   "metadata": {
    "tags": []
   },
   "outputs": [
    {
     "output_type": "stream",
     "name": "stdout",
     "text": "[(0, -sqrt(mu)), (0, sqrt(mu))]\n"
    }
   ],
   "source": [
    "#puntos criticos\n",
    "x,y,mu=symbols('x,y,mu')\n",
    "P=x\n",
    "Q=mu-y**2\n",
    "#establecer P(x,y)=0 y Q(x,y)=0\n",
    "Peqn=Eq(P,0)\n",
    "Qeqn=Eq(Q,0)\n",
    "print(solve((Peqn,Qeqn),x,y))"
   ]
  },
  {
   "cell_type": "code",
   "execution_count": 25,
   "metadata": {
    "tags": []
   },
   "outputs": [
    {
     "output_type": "stream",
     "name": "stdout",
     "text": "⎡1   0  ⎤\n⎢       ⎥\n⎣0  -2⋅y⎦\n"
    }
   ],
   "source": [
    "#encuentro la matriz Jacobiana\n",
    "J11=diff(P,x)\n",
    "J12=diff(P,y)\n",
    "J21=diff(Q,x)\n",
    "J22=diff(Q,y)\n",
    "J=Matrix([[J11,J12],[J21,J22]])\n",
    "pprint(J)"
   ]
  },
  {
   "cell_type": "code",
   "execution_count": 26,
   "metadata": {
    "tags": []
   },
   "outputs": [
    {
     "output_type": "stream",
     "name": "stdout",
     "text": "{1: 1, 2*sqrt(mu): 1}\n⎡⎛      ⎡⎡1⎤⎤⎞  ⎛         ⎡⎡0⎤⎤⎞⎤\n⎢⎜1, 1, ⎢⎢ ⎥⎥⎟, ⎜2⋅√μ, 1, ⎢⎢ ⎥⎥⎟⎥\n⎣⎝      ⎣⎣0⎦⎦⎠  ⎝         ⎣⎣1⎦⎦⎠⎦\n{1: 1, -2*sqrt(mu): 1}\n⎡⎛      ⎡⎡1⎤⎤⎞  ⎛          ⎡⎡0⎤⎤⎞⎤\n⎢⎜1, 1, ⎢⎢ ⎥⎥⎟, ⎜-2⋅√μ, 1, ⎢⎢ ⎥⎥⎟⎥\n⎣⎝      ⎣⎣0⎦⎦⎠  ⎝          ⎣⎣1⎦⎦⎠⎦\n"
    }
   ],
   "source": [
    "#J en el punto critico\n",
    "Jc1=J.subs([(x,0),(y,-sqrt(mu))])\n",
    "print(Jc1.eigenvals())\n",
    "pprint(Jc1.eigenvects())\n",
    "Jc2=J.subs([(x,0),(y,sqrt(mu))])\n",
    "print(Jc2.eigenvals())\n",
    "pprint(Jc2.eigenvects())"
   ]
  },
  {
   "cell_type": "markdown",
   "metadata": {},
   "source": [
    "Para mu>0:\n",
    "El punto critico (0,-sqrt(mu)) tiene dos eigenvalores reales distintos positivos, por lo que es un nodo inestable. El punto critico (0,sqrt(mu)) tiene eigenvalores reales uno positivo y otro negativo, por lo que es un punto silla o col.\n",
    "\n",
    "Para mu<0:\n",
    "El punto critico (0,-sqrt(mu)) tiene un valor real y uno complejo (no tengo idea de que va aqui :P), por lo que es un nodo inestable. El punto critico (0,sqrt(mu)) tiene eigenvalores reales uno positivo y otro negativo, por lo que es un punto silla o col."
   ]
  },
  {
   "cell_type": "code",
   "execution_count": 27,
   "metadata": {
    "tags": []
   },
   "outputs": [
    {
     "output_type": "stream",
     "name": "stdout",
     "text": "[(0, 0)]\n"
    }
   ],
   "source": [
    "#puntos criticos\n",
    "x,y,mu=symbols('x,y,mu')\n",
    "P=x\n",
    "Q=y**2\n",
    "#establecer P(x,y)=0 y Q(x,y)=0\n",
    "Peqn=Eq(P,0)\n",
    "Qeqn=Eq(Q,0)\n",
    "print(solve((Peqn,Qeqn),x,y))"
   ]
  },
  {
   "cell_type": "code",
   "execution_count": 28,
   "metadata": {
    "tags": []
   },
   "outputs": [
    {
     "output_type": "stream",
     "name": "stdout",
     "text": "⎡1   0 ⎤\n⎢      ⎥\n⎣0  2⋅y⎦\n"
    }
   ],
   "source": [
    "#encuentro la matriz Jacobiana\n",
    "J11=diff(P,x)\n",
    "J12=diff(P,y)\n",
    "J21=diff(Q,x)\n",
    "J22=diff(Q,y)\n",
    "J=Matrix([[J11,J12],[J21,J22]])\n",
    "pprint(J)"
   ]
  },
  {
   "cell_type": "code",
   "execution_count": 29,
   "metadata": {
    "tags": []
   },
   "outputs": [
    {
     "output_type": "stream",
     "name": "stdout",
     "text": "{1: 1, 0: 1}\n⎡⎛      ⎡⎡0⎤⎤⎞  ⎛      ⎡⎡1⎤⎤⎞⎤\n⎢⎜0, 1, ⎢⎢ ⎥⎥⎟, ⎜1, 1, ⎢⎢ ⎥⎥⎟⎥\n⎣⎝      ⎣⎣1⎦⎦⎠  ⎝      ⎣⎣0⎦⎦⎠⎦\n"
    }
   ],
   "source": [
    "#J en el punto critico\n",
    "Jc1=J.subs([(x,0),(y,0)])\n",
    "print(Jc1.eigenvals())\n",
    "pprint(Jc1.eigenvects())"
   ]
  },
  {
   "cell_type": "markdown",
   "metadata": {},
   "source": [
    "Para mu=0: El punto critico (0,0) tiene dos eigenvalores reales distintos positivos, por lo que es un nodo inestable."
   ]
  }
 ]
}