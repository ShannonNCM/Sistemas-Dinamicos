{
 "metadata": {
  "language_info": {
   "codemirror_mode": {
    "name": "ipython",
    "version": 3
   },
   "file_extension": ".py",
   "mimetype": "text/x-python",
   "name": "python",
   "nbconvert_exporter": "python",
   "pygments_lexer": "ipython3",
   "version": 3
  },
  "orig_nbformat": 2,
  "kernelspec": {
   "name": "python_defaultSpec_1596130098796",
   "display_name": "Python 3.7.5 64-bit"
  }
 },
 "nbformat": 4,
 "nbformat_minor": 2,
 "cells": [
  {
   "cell_type": "markdown",
   "metadata": {},
   "source": [
    "Graficar los retratos de fase de los sistemas:"
   ]
  },
  {
   "cell_type": "code",
   "execution_count": 3,
   "metadata": {},
   "outputs": [],
   "source": [
    "from sympy import *\n",
    "#para poder graficar\n",
    "import matplotlib.pyplot as plt\n",
    "import numpy as np\n",
    "from scipy.integrate import odeint\n",
    "import pylab as pl"
   ]
  },
  {
   "cell_type": "markdown",
   "metadata": {},
   "source": [
    "a) dx/dt=y , dy/dt=x-y+x^3"
   ]
  },
  {
   "cell_type": "code",
   "execution_count": 4,
   "metadata": {
    "tags": []
   },
   "outputs": [
    {
     "output_type": "stream",
     "name": "stdout",
     "text": "[(0, 0), (-I, 0), (I, 0)]\n"
    }
   ],
   "source": [
    "#puntos criticos\n",
    "x,y=symbols('x,y')\n",
    "P=y\n",
    "Q=x-y+x**3\n",
    "#establecer P(x,y)=0 y Q(x,y)=0\n",
    "Peqn=Eq(P,0)\n",
    "Qeqn=Eq(Q,0)\n",
    "print(solve((Peqn,Qeqn),x,y))"
   ]
  },
  {
   "cell_type": "code",
   "execution_count": 5,
   "metadata": {
    "tags": []
   },
   "outputs": [
    {
     "output_type": "stream",
     "name": "stdout",
     "text": "⎡   0      1 ⎤\n⎢            ⎥\n⎢   2        ⎥\n⎣3⋅x  + 1  -1⎦\n"
    }
   ],
   "source": [
    "#encuentro la matriz Jacobiana\n",
    "J11=diff(P,x)\n",
    "J12=diff(P,y)\n",
    "J21=diff(Q,x)\n",
    "J22=diff(Q,y)\n",
    "J=Matrix([[J11,J12],[J21,J22]])\n",
    "pprint(J)"
   ]
  },
  {
   "cell_type": "code",
   "execution_count": 6,
   "metadata": {
    "tags": []
   },
   "outputs": [
    {
     "output_type": "stream",
     "name": "stdout",
     "text": "{0: 1, -1: 1}\n⎡⎛       ⎡⎡-1⎤⎤⎞  ⎛      ⎡⎡1⎤⎤⎞⎤\n⎢⎜-1, 1, ⎢⎢  ⎥⎥⎟, ⎜0, 1, ⎢⎢ ⎥⎥⎟⎥\n⎣⎝       ⎣⎣1 ⎦⎦⎠  ⎝      ⎣⎣0⎦⎦⎠⎦\n{-1/2 - sqrt(3)*I/2: 1, -1/2 + sqrt(3)*I/2: 1}\n⎡⎛               ⎡⎡  -2    ⎤⎤⎞  ⎛               ⎡⎡    2    ⎤⎤⎞⎤\n⎢⎜  1   √3⋅ⅈ     ⎢⎢────────⎥⎥⎟  ⎜  1   √3⋅ⅈ     ⎢⎢─────────⎥⎥⎟⎥\n⎢⎜- ─ - ────, 1, ⎢⎢1 + √3⋅ⅈ⎥⎥⎟, ⎜- ─ + ────, 1, ⎢⎢-1 + √3⋅ⅈ⎥⎥⎟⎥\n⎢⎜  2    2       ⎢⎢        ⎥⎥⎟  ⎜  2    2       ⎢⎢         ⎥⎥⎟⎥\n⎣⎝               ⎣⎣   1    ⎦⎦⎠  ⎝               ⎣⎣    1    ⎦⎦⎠⎦\n{-1/2 - sqrt(3)*I/2: 1, -1/2 + sqrt(3)*I/2: 1}\n⎡⎛               ⎡⎡  -2    ⎤⎤⎞  ⎛               ⎡⎡    2    ⎤⎤⎞⎤\n⎢⎜  1   √3⋅ⅈ     ⎢⎢────────⎥⎥⎟  ⎜  1   √3⋅ⅈ     ⎢⎢─────────⎥⎥⎟⎥\n⎢⎜- ─ - ────, 1, ⎢⎢1 + √3⋅ⅈ⎥⎥⎟, ⎜- ─ + ────, 1, ⎢⎢-1 + √3⋅ⅈ⎥⎥⎟⎥\n⎢⎜  2    2       ⎢⎢        ⎥⎥⎟  ⎜  2    2       ⎢⎢         ⎥⎥⎟⎥\n⎣⎝               ⎣⎣   1    ⎦⎦⎠  ⎝               ⎣⎣    1    ⎦⎦⎠⎦\n"
    }
   ],
   "source": [
    "#J en el punto critico\n",
    "Jc1=Matrix([[0,1],[0,-1]])\n",
    "print(Jc1.eigenvals())\n",
    "pprint(Jc1.eigenvects())\n",
    "Jc2=Matrix([[0,1],[-1,-1]])\n",
    "print(Jc2.eigenvals())\n",
    "pprint(Jc2.eigenvects())\n",
    "Jc3=Matrix([[0,1],[-1,-1]])\n",
    "print(Jc3.eigenvals())\n",
    "pprint(Jc3.eigenvects())"
   ]
  },
  {
   "cell_type": "markdown",
   "metadata": {},
   "source": [
    "El punto critico (0,0) tiene eigenvalres reales distintos, positivo y negativo por lo que el punto critico es un punto silla o col."
   ]
  },
  {
   "cell_type": "markdown",
   "metadata": {},
   "source": [
    "b) dx/dt=-2x-y+2 , dy/dt=xy"
   ]
  },
  {
   "cell_type": "code",
   "execution_count": 7,
   "metadata": {
    "tags": []
   },
   "outputs": [
    {
     "output_type": "stream",
     "name": "stdout",
     "text": "[(0, 2), (1, 0)]\n"
    }
   ],
   "source": [
    "#puntos criticos\n",
    "x,y=symbols('x,y')\n",
    "P=-2*x-y+2\n",
    "Q=x*y\n",
    "#establecer P(x,y)=0 y Q(x,y)=0\n",
    "Peqn=Eq(P,0)\n",
    "Qeqn=Eq(Q,0)\n",
    "print(solve((Peqn,Qeqn),x,y))"
   ]
  },
  {
   "cell_type": "code",
   "execution_count": 8,
   "metadata": {
    "tags": []
   },
   "outputs": [
    {
     "output_type": "stream",
     "name": "stdout",
     "text": "⎡-2  -1⎤\n⎢      ⎥\n⎣y   x ⎦\n"
    }
   ],
   "source": [
    "#encuentro la matriz Jacobiana\n",
    "J11=diff(P,x)\n",
    "J12=diff(P,y)\n",
    "J21=diff(Q,x)\n",
    "J22=diff(Q,y)\n",
    "J=Matrix([[J11,J12],[J21,J22]])\n",
    "pprint(J)"
   ]
  },
  {
   "cell_type": "code",
   "execution_count": 9,
   "metadata": {
    "tags": []
   },
   "outputs": [
    {
     "output_type": "stream",
     "name": "stdout",
     "text": "{-1 - I: 1, -1 + I: 1}\n⎡⎛           ⎡⎡  1   ⅈ⎤⎤⎞  ⎛           ⎡⎡  1   ⅈ⎤⎤⎞⎤\n⎢⎜           ⎢⎢- ─ - ─⎥⎥⎟  ⎜           ⎢⎢- ─ + ─⎥⎥⎟⎥\n⎢⎜-1 - ⅈ, 1, ⎢⎢  2   2⎥⎥⎟, ⎜-1 + ⅈ, 1, ⎢⎢  2   2⎥⎥⎟⎥\n⎢⎜           ⎢⎢       ⎥⎥⎟  ⎜           ⎢⎢       ⎥⎥⎟⎥\n⎣⎝           ⎣⎣   1   ⎦⎦⎠  ⎝           ⎣⎣   1   ⎦⎦⎠⎦\n{-2: 1, 1: 1}\n⎡⎛       ⎡⎡1⎤⎤⎞  ⎛      ⎡⎡-11/3⎤⎤⎞⎤\n⎢⎜-2, 1, ⎢⎢ ⎥⎥⎟, ⎜1, 1, ⎢⎢     ⎥⎥⎟⎥\n⎣⎝       ⎣⎣0⎦⎦⎠  ⎝      ⎣⎣  1  ⎦⎦⎠⎦\n"
    }
   ],
   "source": [
    "#J en el punto critico\n",
    "Jc1=Matrix([[-2,-1],[2,0]])\n",
    "print(Jc1.eigenvals())\n",
    "pprint(Jc1.eigenvects())\n",
    "Jc2=Matrix([[-2,-11],[0,1]])\n",
    "print(Jc2.eigenvals())\n",
    "pprint(Jc2.eigenvects())"
   ]
  },
  {
   "cell_type": "markdown",
   "metadata": {},
   "source": [
    "El punto critico (0,2) tiene eigenvalores reales iguales y dos eigenvectores independientes, por lo que es un nodo singular. \n",
    "El punto critico (1,0) tiene eigenvalores reales distintos negativo y positivo, por lo tanto es un punto silla o col."
   ]
  },
  {
   "cell_type": "markdown",
   "metadata": {},
   "source": [
    "c) dx/dt=x^2-y^2 , dy/dt=xy-1"
   ]
  },
  {
   "cell_type": "code",
   "execution_count": 11,
   "metadata": {
    "tags": []
   },
   "outputs": [
    {
     "output_type": "stream",
     "name": "stdout",
     "text": "[(-1, -1), (1, 1), (-I, I), (I, -I)]\n"
    }
   ],
   "source": [
    "#puntos criticos\n",
    "x,y=symbols('x,y')\n",
    "P=x**2-y**2\n",
    "Q=x*y-1\n",
    "#establecer P(x,y)=0 y Q(x,y)=0\n",
    "Peqn=Eq(P,0)\n",
    "Qeqn=Eq(Q,0)\n",
    "print(solve((Peqn,Qeqn),x,y))"
   ]
  },
  {
   "cell_type": "code",
   "execution_count": 12,
   "metadata": {
    "tags": []
   },
   "outputs": [
    {
     "output_type": "stream",
     "name": "stdout",
     "text": "⎡2⋅x  -2⋅y⎤\n⎢         ⎥\n⎣ y    x  ⎦\n"
    }
   ],
   "source": [
    "#encuentro la matriz Jacobiana\n",
    "J11=diff(P,x)\n",
    "J12=diff(P,y)\n",
    "J21=diff(Q,x)\n",
    "J22=diff(Q,y)\n",
    "J=Matrix([[J11,J12],[J21,J22]])\n",
    "pprint(J)"
   ]
  },
  {
   "cell_type": "code",
   "execution_count": 13,
   "metadata": {
    "tags": []
   },
   "outputs": [
    {
     "output_type": "stream",
     "name": "stdout",
     "text": "{-3/2 - sqrt(7)*I/2: 1, -3/2 + sqrt(7)*I/2: 1}\n⎡⎛               ⎡⎡   -2     ⎤⎤⎞  ⎛               ⎡⎡   -2     ⎤⎤⎞⎤\n⎢⎜               ⎢⎢──────────⎥⎥⎟  ⎜               ⎢⎢──────────⎥⎥⎟⎥\n⎢⎜  3   √7⋅ⅈ     ⎢⎢  1   √7⋅ⅈ⎥⎥⎟  ⎜  3   √7⋅ⅈ     ⎢⎢  1   √7⋅ⅈ⎥⎥⎟⎥\n⎢⎜- ─ - ────, 1, ⎢⎢- ─ + ────⎥⎥⎟, ⎜- ─ + ────, 1, ⎢⎢- ─ - ────⎥⎥⎟⎥\n⎢⎜  2    2       ⎢⎢  2    2  ⎥⎥⎟  ⎜  2    2       ⎢⎢  2    2  ⎥⎥⎟⎥\n⎢⎜               ⎢⎢          ⎥⎥⎟  ⎜               ⎢⎢          ⎥⎥⎟⎥\n⎣⎝               ⎣⎣    1     ⎦⎦⎠  ⎝               ⎣⎣    1     ⎦⎦⎠⎦\n{3/2 - sqrt(7)*I/2: 1, 3/2 + sqrt(7)*I/2: 1}\n⎡⎛             ⎡⎡   2    ⎤⎤⎞  ⎛             ⎡⎡   2    ⎤⎤⎞⎤\n⎢⎜             ⎢⎢────────⎥⎥⎟  ⎜             ⎢⎢────────⎥⎥⎟⎥\n⎢⎜3   √7⋅ⅈ     ⎢⎢1   √7⋅ⅈ⎥⎥⎟  ⎜3   √7⋅ⅈ     ⎢⎢1   √7⋅ⅈ⎥⎥⎟⎥\n⎢⎜─ - ────, 1, ⎢⎢─ + ────⎥⎥⎟, ⎜─ + ────, 1, ⎢⎢─ - ────⎥⎥⎟⎥\n⎢⎜2    2       ⎢⎢2    2  ⎥⎥⎟  ⎜2    2       ⎢⎢2    2  ⎥⎥⎟⎥\n⎢⎜             ⎢⎢        ⎥⎥⎟  ⎜             ⎢⎢        ⎥⎥⎟⎥\n⎣⎝             ⎣⎣   1    ⎦⎦⎠  ⎝             ⎣⎣   1    ⎦⎦⎠⎦\n"
    }
   ],
   "source": [
    "#J en el punto critico\n",
    "Jc1=Matrix([[-2,2],[-1,-1]])\n",
    "print(Jc1.eigenvals())\n",
    "pprint(Jc1.eigenvects())\n",
    "Jc2=Matrix([[2,-2],[1,1]])\n",
    "print(Jc2.eigenvals())\n",
    "pprint(Jc2.eigenvects())"
   ]
  },
  {
   "cell_type": "markdown",
   "metadata": {},
   "source": [
    "El punto critico (-1,-1) tiene eigenvalores complejos con alfa<0, por lo que es un foco estable. \n",
    "El punto critico (1,1) tiene eigenvalores complejos con alfa>0, por lo tanto es un foco inestable."
   ]
  },
  {
   "cell_type": "markdown",
   "metadata": {},
   "source": [
    "d) dx/dt=2-x-y^2 , dy/dt=-y(x^2+y^2-3x+1)"
   ]
  },
  {
   "cell_type": "code",
   "execution_count": 14,
   "metadata": {
    "tags": []
   },
   "outputs": [
    {
     "output_type": "stream",
     "name": "stdout",
     "text": "[(1, -1), (1, 1), (2, 0), (3, -I), (3, I)]\n"
    }
   ],
   "source": [
    "#puntos criticos\n",
    "x,y=symbols('x,y')\n",
    "P=2-x-y**2\n",
    "Q=-y*(x**2+y**2-3*x+1)\n",
    "#establecer P(x,y)=0 y Q(x,y)=0\n",
    "Peqn=Eq(P,0)\n",
    "Qeqn=Eq(Q,0)\n",
    "print(solve((Peqn,Qeqn),x,y))"
   ]
  },
  {
   "cell_type": "code",
   "execution_count": 15,
   "metadata": {
    "tags": []
   },
   "outputs": [
    {
     "output_type": "stream",
     "name": "stdout",
     "text": "⎡     -1               -2⋅y         ⎤\n⎢                                   ⎥\n⎢                 2            2    ⎥\n⎣-y⋅(2⋅x - 3)  - x  + 3⋅x - 3⋅y  - 1⎦\n"
    }
   ],
   "source": [
    "#encuentro la matriz Jacobiana\n",
    "J11=diff(P,x)\n",
    "J12=diff(P,y)\n",
    "J21=diff(Q,x)\n",
    "J22=diff(Q,y)\n",
    "J=Matrix([[J11,J12],[J21,J22]])\n",
    "pprint(J)"
   ]
  },
  {
   "cell_type": "code",
   "execution_count": null,
   "metadata": {},
   "outputs": [],
   "source": [
    "#J en el punto critico\n",
    "Jc1=Matrix([[-1,2],[,]])\n",
    "print(Jc1.eigenvals())\n",
    "pprint(Jc1.eigenvects())\n",
    "Jc2=Matrix([[2,-2],[1,1]])\n",
    "print(Jc2.eigenvals())\n",
    "pprint(Jc2.eigenvects())\n",
    "Jc3=Matrix([[2,-2],[1,1]])\n",
    "print(Jc3.eigenvals())\n",
    "pprint(Jc3.eigenvects())"
   ]
  },
  {
   "cell_type": "markdown",
   "metadata": {},
   "source": [
    "e) dx/dt= , dy/dt="
   ]
  },
  {
   "cell_type": "markdown",
   "metadata": {},
   "source": [
    "f) dx/dt= , dy/dt="
   ]
  },
  {
   "cell_type": "markdown",
   "metadata": {},
   "source": [
    "g) dx/dt= , dy/dt="
   ]
  },
  {
   "cell_type": "code",
   "execution_count": null,
   "metadata": {},
   "outputs": [],
   "source": []
  }
 ]
}