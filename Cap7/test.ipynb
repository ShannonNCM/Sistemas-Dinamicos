{
 "metadata": {
  "language_info": {
   "codemirror_mode": {
    "name": "ipython",
    "version": 3
   },
   "file_extension": ".py",
   "mimetype": "text/x-python",
   "name": "python",
   "nbconvert_exporter": "python",
   "pygments_lexer": "ipython3",
   "version": "3.7.5-final"
  },
  "orig_nbformat": 2,
  "kernelspec": {
   "name": "Python 3.7.5 64-bit",
   "display_name": "Python 3.7.5 64-bit",
   "metadata": {
    "interpreter": {
     "hash": "31f2aee4e71d21fbe5cf8b01ff0e069b9275f58929596ceb00d14d90e3e16cd6"
    }
   }
  }
 },
 "nbformat": 4,
 "nbformat_minor": 2,
 "cells": [
  {
   "cell_type": "code",
   "execution_count": 1,
   "metadata": {},
   "outputs": [],
   "source": [
    "from sympy import *\n",
    "from sympy.abc import x,y,t,mu"
   ]
  },
  {
   "cell_type": "code",
   "execution_count": 2,
   "metadata": {},
   "outputs": [
    {
     "output_type": "stream",
     "name": "stdout",
     "text": [
      "[(-sqrt(mu), 0), (sqrt(mu), 0)]\n"
     ]
    }
   ],
   "source": [
    "#puntos criticos\n",
    "P=mu-x**2\n",
    "Q=-y\n",
    "#establecer P(S,I)=0 y Q(S,I)=0\n",
    "Peqn=Eq(P,0)\n",
    "Qeqn=Eq(Q,0)\n",
    "print(solve((Peqn,Qeqn),x,y))"
   ]
  },
  {
   "cell_type": "code",
   "execution_count": 3,
   "metadata": {},
   "outputs": [
    {
     "output_type": "stream",
     "name": "stdout",
     "text": [
      "[(-I, 0), (I, 0)]\n"
     ]
    }
   ],
   "source": [
    "#puntos criticos\n",
    "P=-1-x**2\n",
    "Q=-y\n",
    "#establecer P(S,I)=0 y Q(S,I)=0\n",
    "Peqn=Eq(P,0)\n",
    "Qeqn=Eq(Q,0)\n",
    "print(solve((Peqn,Qeqn),x,y))"
   ]
  },
  {
   "cell_type": "code",
   "execution_count": 6,
   "metadata": {},
   "outputs": [
    {
     "output_type": "stream",
     "name": "stdout",
     "text": [
      "[(0, 0)]\n⎡-2⋅x  0 ⎤\n⎢        ⎥\n⎣ 0    -1⎦\n"
     ]
    }
   ],
   "source": [
    "#puntos criticos\n",
    "P=-x**2\n",
    "Q=-y\n",
    "#establecer P(S,I)=0 y Q(S,I)=0\n",
    "Peqn=Eq(P,0)\n",
    "Qeqn=Eq(Q,0)\n",
    "print(solve((Peqn,Qeqn),x,y))\n",
    "#matriz Jacobiana\n",
    "J11=diff(P,x)\n",
    "J12=diff(P,y)\n",
    "J21=diff(Q,x)\n",
    "J22=diff(Q,y)\n",
    "J=Matrix([[J11,J12],[J21,J22]])\n",
    "pprint(J)"
   ]
  },
  {
   "cell_type": "code",
   "execution_count": 7,
   "metadata": {},
   "outputs": [
    {
     "output_type": "stream",
     "name": "stdout",
     "text": [
      "{-1: 1, 0: 1}\n⎡⎛       ⎡⎡0⎤⎤⎞  ⎛      ⎡⎡1⎤⎤⎞⎤\n⎢⎜-1, 1, ⎢⎢ ⎥⎥⎟, ⎜0, 1, ⎢⎢ ⎥⎥⎟⎥\n⎣⎝       ⎣⎣1⎦⎦⎠  ⎝      ⎣⎣0⎦⎦⎠⎦\n"
     ]
    }
   ],
   "source": [
    "#J en el punto critico\n",
    "Jc1=J.subs([(x,0),(y,0)])\n",
    "pprint(Jc1.eigenvals())\n",
    "pprint(Jc1.eigenvects())"
   ]
  },
  {
   "cell_type": "code",
   "execution_count": null,
   "metadata": {},
   "outputs": [],
   "source": [
    "Es no hiperbolico"
   ]
  },
  {
   "cell_type": "code",
   "execution_count": 3,
   "metadata": {},
   "outputs": [
    {
     "output_type": "stream",
     "name": "stdout",
     "text": [
      "[(-sqrt(mu), 0), (sqrt(mu), 0)]\n⎡-2⋅x  0 ⎤\n⎢        ⎥\n⎣ 0    -1⎦\n"
     ]
    }
   ],
   "source": [
    "#puntos criticos\n",
    "P=mu-x**2\n",
    "Q=-y\n",
    "#establecer P(S,I)=0 y Q(S,I)=0\n",
    "Peqn=Eq(P,0)\n",
    "Qeqn=Eq(Q,0)\n",
    "print(solve((Peqn,Qeqn),x,y))\n",
    "#matriz Jacobiana\n",
    "J11=diff(P,x)\n",
    "J12=diff(P,y)\n",
    "J21=diff(Q,x)\n",
    "J22=diff(Q,y)\n",
    "J=Matrix([[J11,J12],[J21,J22]])\n",
    "pprint(J)"
   ]
  },
  {
   "cell_type": "code",
   "execution_count": 4,
   "metadata": {},
   "outputs": [
    {
     "output_type": "stream",
     "name": "stdout",
     "text": [
      "{-1: 1, 2⋅√μ: 1}\n",
      "⎡⎛       ⎡⎡0⎤⎤⎞  ⎛         ⎡⎡1⎤⎤⎞⎤\n",
      "⎢⎜-1, 1, ⎢⎢ ⎥⎥⎟, ⎜2⋅√μ, 1, ⎢⎢ ⎥⎥⎟⎥\n",
      "⎣⎝       ⎣⎣1⎦⎦⎠  ⎝         ⎣⎣0⎦⎦⎠⎦\n",
      "{-1: 1, -2⋅√μ: 1}\n",
      "⎡⎛       ⎡⎡0⎤⎤⎞  ⎛          ⎡⎡1⎤⎤⎞⎤\n",
      "⎢⎜-1, 1, ⎢⎢ ⎥⎥⎟, ⎜-2⋅√μ, 1, ⎢⎢ ⎥⎥⎟⎥\n",
      "⎣⎝       ⎣⎣1⎦⎦⎠  ⎝          ⎣⎣0⎦⎦⎠⎦\n"
     ]
    }
   ],
   "source": [
    "#J en el punto critico\n",
    "Jc1=J.subs([(x,-sqrt(mu)),(y,0)])\n",
    "pprint(Jc1.eigenvals())\n",
    "pprint(Jc1.eigenvects())\n",
    "Jc2=J.subs([(x,sqrt(mu)),(y,0)])\n",
    "pprint(Jc2.eigenvals())\n",
    "pprint(Jc2.eigenvects())"
   ]
  },
  {
   "cell_type": "code",
   "execution_count": null,
   "metadata": {},
   "outputs": [],
   "source": []
  },
  {
   "cell_type": "markdown",
   "metadata": {},
   "source": [
    "Bifurcacion transcritica"
   ]
  },
  {
   "cell_type": "code",
   "execution_count": 4,
   "metadata": {},
   "outputs": [
    {
     "output_type": "stream",
     "name": "stdout",
     "text": [
      "[(0, 0), (mu, 0)]\n⎡μ - 2⋅x  0 ⎤\n⎢           ⎥\n⎣   0     -1⎦\n"
     ]
    }
   ],
   "source": [
    "#puntos criticos\n",
    "P=mu*x-x**2\n",
    "Q=-y\n",
    "#establecer P(S,I)=0 y Q(S,I)=0\n",
    "Peqn=Eq(P,0)\n",
    "Qeqn=Eq(Q,0)\n",
    "print(solve((Peqn,Qeqn),x,y))\n",
    "#matriz Jacobiana\n",
    "J11=diff(P,x)\n",
    "J12=diff(P,y)\n",
    "J21=diff(Q,x)\n",
    "J22=diff(Q,y)\n",
    "J=Matrix([[J11,J12],[J21,J22]])\n",
    "pprint(J)"
   ]
  },
  {
   "cell_type": "code",
   "execution_count": 5,
   "metadata": {},
   "outputs": [
    {
     "output_type": "stream",
     "name": "stdout",
     "text": [
      "[(0, 0)]\n⎡-2⋅x  0 ⎤\n⎢        ⎥\n⎣ 0    -1⎦\n"
     ]
    }
   ],
   "source": [
    "#puntos criticos\n",
    "P=0*x-x**2\n",
    "Q=-y\n",
    "#establecer P(S,I)=0 y Q(S,I)=0\n",
    "Peqn=Eq(P,0)\n",
    "Qeqn=Eq(Q,0)\n",
    "print(solve((Peqn,Qeqn),x,y))\n",
    "#matriz Jacobiana\n",
    "J11=diff(P,x)\n",
    "J12=diff(P,y)\n",
    "J21=diff(Q,x)\n",
    "J22=diff(Q,y)\n",
    "J=Matrix([[J11,J12],[J21,J22]])\n",
    "pprint(J)"
   ]
  },
  {
   "cell_type": "code",
   "execution_count": null,
   "metadata": {},
   "outputs": [],
   "source": []
  },
  {
   "cell_type": "markdown",
   "metadata": {},
   "source": [
    "Bifurcacion de Ptchfork"
   ]
  },
  {
   "cell_type": "code",
   "execution_count": 6,
   "metadata": {},
   "outputs": [
    {
     "output_type": "stream",
     "name": "stdout",
     "text": [
      "[(0, 0), (-sqrt(mu), 0), (sqrt(mu), 0)]\n⎡       2    ⎤\n⎢μ - 3⋅x   0 ⎥\n⎢            ⎥\n⎣   0      -1⎦\n"
     ]
    }
   ],
   "source": [
    "#puntos criticos\n",
    "P=mu*x-x**3\n",
    "Q=-y\n",
    "#establecer P(S,I)=0 y Q(S,I)=0\n",
    "Peqn=Eq(P,0)\n",
    "Qeqn=Eq(Q,0)\n",
    "print(solve((Peqn,Qeqn),x,y))\n",
    "#matriz Jacobiana\n",
    "J11=diff(P,x)\n",
    "J12=diff(P,y)\n",
    "J21=diff(Q,x)\n",
    "J22=diff(Q,y)\n",
    "J=Matrix([[J11,J12],[J21,J22]])\n",
    "pprint(J)"
   ]
  },
  {
   "cell_type": "code",
   "execution_count": null,
   "metadata": {},
   "outputs": [],
   "source": []
  }
 ]
}