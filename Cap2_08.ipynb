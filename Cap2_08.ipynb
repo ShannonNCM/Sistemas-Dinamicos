{
 "cells": [
  {
   "cell_type": "code",
   "execution_count": 1,
   "metadata": {},
   "outputs": [],
   "source": [
    "from sympy import *\n",
    "from sympy.abc import A,B,t,v,m,V"
   ]
  },
  {
   "cell_type": "code",
   "execution_count": 3,
   "metadata": {},
   "outputs": [],
   "source": [
    "A=Function('A')\n",
    "B=Function('B')"
   ]
  },
  {
   "cell_type": "code",
   "execution_count": 4,
   "metadata": {},
   "outputs": [],
   "source": [
    "eqsd=[Eq(A(t).diff(t)+(A(t)*v/V),m/V),Eq(B(t).diff(t)+(B(t)*v/V),A(t)*v/V)]"
   ]
  },
  {
   "cell_type": "code",
   "execution_count": 8,
   "metadata": {},
   "outputs": [
    {
     "name": "stdout",
     "output_type": "stream",
     "text": [
      "[Eq(A(t), m/v + Piecewise((C1*exp(-t*v/V), Eq(v/V, 0)), (C2*exp(-t*v/V), True)\n",
      ")), Eq(B(t), m/v + Piecewise((C2*exp(-t*v/V), Eq(v/V, 0)), ((C1*v/V + C2*t*v/V\n",
      ")*exp(-t*v/V), True)))]\n"
     ]
    }
   ],
   "source": [
    "sol=dsolve(eqsd,[A(t),B(t)])\n",
    "pprint(f\"{ sol}\")"
   ]
  },
  {
   "cell_type": "code",
   "execution_count": null,
   "metadata": {},
   "outputs": [],
   "source": []
  }
 ],
 "metadata": {
  "kernelspec": {
   "display_name": "Python 3",
   "language": "python",
   "name": "python3"
  },
  "language_info": {
   "codemirror_mode": {
    "name": "ipython",
    "version": 3
   },
   "file_extension": ".py",
   "mimetype": "text/x-python",
   "name": "python",
   "nbconvert_exporter": "python",
   "pygments_lexer": "ipython3",
   "version": "3.7.5"
  }
 },
 "nbformat": 4,
 "nbformat_minor": 4
}
